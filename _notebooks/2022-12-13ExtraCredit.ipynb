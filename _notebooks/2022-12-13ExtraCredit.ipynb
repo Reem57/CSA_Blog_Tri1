{
 "cells": [
  {
   "attachments": {},
   "cell_type": "markdown",
   "metadata": {},
   "source": [
    "# Extra Credit\n",
    "- toc: true \n",
    "- badges: true\n",
    "- comments: true\n",
    "- categories: [jupyter]\n",
    "- title: Extra Credit"
   ]
  },
  {
   "attachments": {},
   "cell_type": "markdown",
   "metadata": {},
   "source": [
    "# Notes - Kathleen Beveridge\n",
    " - Born in vietnam\n",
    " - Studied abroad in Spain\n",
    " - Studied in Santa Clara and NBA in USC\n",
    " - Started as a stock broker in the finance path\n",
    " - Continued to Qualcomm and joined the high-tech industries\n",
    " \n",
    " Mission Statement:\n",
    "  - HP Inc: Create technology that makes life better for everyone, every where\n",
    "  - Qualcomm: Inventing the tech the world loves\n",
    "  - Thermo Fisher Scientific: Enable our customers to make the world healthier, cleaner and safer\n",
    "Every company was trying to change the world for the better\n",
    "Her team works with scum masters to bring products to the market "
   ]
  },
  {
   "attachments": {},
   "cell_type": "markdown",
   "metadata": {},
   "source": [
    "# Notes - Kris Porter\n",
    " - When to UCLA for electrical engineering\n",
    " - Masters degree in electrical engineering\n",
    " - Developed a robot somewhere in the world\n",
    " - It helped do research in costa rico \n",
    " - Made a start up in 2010\n",
    " - Worked in NBC Universal, Streaming media infrastructure\n",
    " - moved down to california for his girlfriend and then joined a startup in carlsbad\n",
    " - Joined Qualcomm with Mr. M\n",
    " - Tweeter - request for API Timeline in the tweeter database\n",
    "\n",
    "He tries to avoid being bored so he finds new ways to enjoy life. Mostly switching jobs. \n",
    "In tweeter he changed most of the rest API to a better working version\n",
    "\n",
    "When companies start stumble (tweeter), make sure you build resilience and another fallback plan in case of anything happening.\n"
   ]
  },
  {
   "attachments": {},
   "cell_type": "markdown",
   "metadata": {},
   "source": [
    "# Summary/Reflection\n",
    "Both of today's presenters did not have a great plan after graduation, but they were able to pivot and be successful in their own ways. As a result, I should be prepared to not always follow Plan A and to be resilient in life. In addition, I learnt to be adaptable and to plan ahead of time. For example, attempt to forecast how your company's future will look and be as adaptable as possible to new environments/jobs. Some critical talents in the business include the ability to listen to and comprehend the company's needs and translate them into a solution that can be executed in the high-tech industry. There are numerous examples of computer software assisting other sectors by utilizing the logic you learn with it, which is why learning computer science is crucial for even non-computer related industries."
   ]
  }
 ],
 "metadata": {
  "kernelspec": {
   "display_name": "Java",
   "language": "java",
   "name": "java"
  },
  "language_info": {
   "name": "java"
  },
  "orig_nbformat": 4
 },
 "nbformat": 4,
 "nbformat_minor": 2
}
