{
 "cells": [
  {
   "attachments": {},
   "cell_type": "markdown",
   "metadata": {},
   "source": [
    "# Unit 7 Data Structures\n",
    "- toc: true \n",
    "- badges: true\n",
    "- comments: true\n",
    "- categories: [jupyter]\n",
    "- title: Data Structures"
   ]
  },
  {
   "cell_type": "code",
   "execution_count": 8,
   "metadata": {},
   "outputs": [
    {
     "name": "stdout",
     "output_type": "stream",
     "text": [
      "Enter the first binary number: 1\n",
      "Enter the second binary number: 1\n",
      "The sum of 1 and 1 is 10 in binary and 2 in decimal\n"
     ]
    }
   ],
   "source": [
    "import java.util.Scanner;\n",
    "\n",
    "public class BinaryAddition {\n",
    "  public static void main(String[] args) {\n",
    "    Scanner input = new Scanner(System.in);\n",
    "\n",
    "    System.out.print(\"Enter the first binary number: \");\n",
    "    String binary1 = input.nextLine();\n",
    "    System.out.println(binary1);\n",
    "\n",
    "    System.out.print(\"Enter the second binary number: \");\n",
    "    String binary2 = input.nextLine();\n",
    "    System.out.println(binary2);\n",
    "\n",
    "    int decimal1 = Integer.parseInt(binary1, 2);\n",
    "    int decimal2 = Integer.parseInt(binary2, 2);\n",
    "    int sum = decimal1 + decimal2;\n",
    "    String binarySum = Integer.toBinaryString(sum);\n",
    "\n",
    "    System.out.println(\"The sum of \" + binary1 + \" and \" + binary2 + \" is \" + binarySum + \" in binary and \" + sum + \" in decimal\");\n",
    "\n",
    "  }\n",
    "}\n",
    "\n",
    "BinaryAddition.main(null);"
   ]
  },
  {
   "cell_type": "code",
   "execution_count": 1,
   "metadata": {},
   "outputs": [
    {
     "name": "stdout",
     "output_type": "stream",
     "text": [
      "Main method before changeInt(n): n = 5\n",
      "In changeInt method\n",
      "\tBefore n += 10: n = 5\n",
      "\tAfter n += 10: n = 15\n",
      "Main method after changeInt(n): n = 5\n"
     ]
    }
   ],
   "source": [
    "public class IntByValue {\n",
    "    \n",
    "    public static void changeInt(int n) {\n",
    "        System.out.println(\"In changeInt method\");\n",
    "        System.out.println(\"\\tBefore n += 10: n = \" + n); // prints 5\n",
    "        n = n += 10;\n",
    "        System.out.println(\"\\tAfter n += 10: n = \" + n); // prints 10\n",
    "    }\n",
    "\n",
    "    public static void main(String[] args) {\n",
    "        int n = 5;\n",
    "        System.out.println(\"Main method before changeInt(n): n = \" + n); // prints 5\n",
    "        changeInt(n);\n",
    "        System.out.println(\"Main method after changeInt(n): n = \" + n); // still prints 5\n",
    "    }\n",
    "}\n",
    "IntByValue.main(null);"
   ]
  },
  {
   "cell_type": "code",
   "execution_count": 2,
   "metadata": {},
   "outputs": [
    {
     "name": "stdout",
     "output_type": "stream",
     "text": [
      "Main method before changeInteger(n): n = 5 hash code = 5\n",
      "In changeInteger method\n",
      "\tBefore change: n = 5 hash code = 5\n",
      "\tAfter change: n = 15 hash code = 15\n",
      "Main method after changeInteger(n): n = 5 hash code = 5\n"
     ]
    }
   ],
   "source": [
    "public class IntegerByValueOrReference {\n",
    "    \n",
    "    public static void changeInteger(Integer n) {\n",
    "        System.out.println(\"In changeInteger method\");\n",
    "        System.out.println(\"\\tBefore change: n = \" + \n",
    "                            n + // prints 5\n",
    "                            \" hash code = \" + \n",
    "                            n.hashCode()); \n",
    "\n",
    "        n += 10;  // behind the scenes, this is:  n = new Integer(n+10)\n",
    "        \n",
    "        System.out.println(\"\\tAfter change: n = \" + \n",
    "                            n + // prints 15\n",
    "                            \" hash code = \" + \n",
    "                            n.hashCode()); \n",
    "    }\n",
    "\n",
    "    public static void main(String[] args) {\n",
    "        Integer n = 5;\n",
    "        System.out.println(\"Main method before changeInteger(n): n = \" + \n",
    "                            n + // prints 5\n",
    "                            \" hash code = \" + \n",
    "                            n.hashCode()); \n",
    "\n",
    "        changeInteger(n);\n",
    "        \n",
    "        System.out.println(\"Main method after changeInteger(n): n = \" + \n",
    "                            n +  // now prints 15\n",
    "                            \" hash code = \" + \n",
    "                            n.hashCode());     \n",
    "    }\n",
    "}\n",
    "IntegerByValueOrReference.main(null);"
   ]
  },
  {
   "cell_type": "code",
   "execution_count": 3,
   "metadata": {},
   "outputs": [
    {
     "name": "stdout",
     "output_type": "stream",
     "text": [
      "Main method before changeAtomicInteger(n): n = 5 hash code = 933350356\n",
      "In changeAtomicInteger method\n",
      "\tBefore change: n = 5 hash code = 933350356\n",
      "\tAfter change: n = 15 hash code = 933350356\n",
      "Main method after changeAtomicInteger(n): n = 15 hash code = 933350356\n"
     ]
    }
   ],
   "source": [
    "import java.util.concurrent.atomic.AtomicInteger;\n",
    "\n",
    "public class PassByReference {\n",
    "    \n",
    "    public static void changeAtomicInteger(AtomicInteger n) {\n",
    "        System.out.println(\"In changeAtomicInteger method\");\n",
    "        System.out.println(\"\\tBefore change: n = \" + \n",
    "                            n + // prints 5\n",
    "                            \" hash code = \" + \n",
    "                            n.hashCode()); \n",
    "        n.set(n.get() + 10);  // at this point, we are clearly working with reference data type\n",
    "        System.out.println(\"\\tAfter change: n = \" + \n",
    "                            n + // prints 15\n",
    "                            \" hash code = \" + \n",
    "                            n.hashCode()); \n",
    "}\n",
    "\n",
    "    public static void main(String[] args) {\n",
    "        AtomicInteger n = new AtomicInteger(5); // unlike conventional wrapper class, this requires new\n",
    "        System.out.println(\"Main method before changeAtomicInteger(n): n = \" + \n",
    "                            n + // prints 5\n",
    "                            \" hash code = \" + \n",
    "                            n.hashCode()); \n",
    "        changeAtomicInteger(n);\n",
    "        System.out.println(\"Main method after changeAtomicInteger(n): n = \" + \n",
    "                            n +  // now prints 15\n",
    "                            \" hash code = \" + \n",
    "                            n.hashCode()); \n",
    "    }\n",
    "}\n",
    "PassByReference.main(null);"
   ]
  },
  {
   "cell_type": "code",
   "execution_count": 4,
   "metadata": {},
   "outputs": [
    {
     "name": "stdout",
     "output_type": "stream",
     "text": [
      "Before: 21 16\n",
      "After: 16 21\n",
      "\n",
      "Before: 16 21\n",
      "After: 16 21\n",
      "\n",
      "Before: 16 -1\n",
      "After: -1 16\n",
      "\n"
     ]
    }
   ],
   "source": [
    "public class IntByReference {\n",
    "    private int value;\n",
    "\n",
    "    public IntByReference(Integer value) {\n",
    "        this.value = value;\n",
    "    }\n",
    "\n",
    "    public String toString() {\n",
    "        return (String.format(\"%d\", this.value));\n",
    "    }\n",
    "\n",
    "    public void swapToLowHighOrder(IntByReference i) {\n",
    "        if (this.value > i.value) {\n",
    "            int tmp = this.value;\n",
    "            this.value = i.value;\n",
    "            i.value = tmp;\n",
    "        }\n",
    "    }\n",
    "\n",
    "    public static void swapper(int n0, int n1) {\n",
    "        IntByReference a = new IntByReference(n0);\n",
    "        IntByReference b = new IntByReference(n1);\n",
    "        System.out.println(\"Before: \" + a + \" \" + b);\n",
    "        a.swapToLowHighOrder(b);  // conditionally build swap method to change values of a, b\n",
    "        System.out.println(\"After: \" + a + \" \" + b);\n",
    "        System.out.println();\n",
    "    }\n",
    "\n",
    "    public static void main(String[] ags) {\n",
    "        IntByReference.swapper(21, 16);\n",
    "        IntByReference.swapper(16, 21);\n",
    "        IntByReference.swapper(16, -1);\n",
    "    }\n",
    "\n",
    "}\n",
    "IntByReference.main(null);"
   ]
  },
  {
   "attachments": {},
   "cell_type": "markdown",
   "metadata": {},
   "source": [
    "# Hacks"
   ]
  },
  {
   "cell_type": "code",
   "execution_count": null,
   "metadata": {},
   "outputs": [],
   "source": [
    "int[] numbers = {123, 456, 789};\n",
    "\n",
    "for (int i = 0; i < numbers.length; i++) {\n",
    "  String str = String.valueOf(numbers[i]);\n",
    "  String subStr = str.substring(1, 2);\n",
    "  int num = Integer.parseInt(subStr);\n",
    "  System.out.println(num);\n",
    "}"
   ]
  },
  {
   "cell_type": "code",
   "execution_count": null,
   "metadata": {},
   "outputs": [],
   "source": [
    "Integer[] numbers = {123, 456, 789};\n",
    "\n",
    "for (int i = 0; i < numbers.length; i++) {\n",
    "  String str = numbers[i].toString();\n",
    "  String subStr = str.substring(1, 2);\n",
    "  int num = Integer.parseInt(subStr);\n",
    "  System.out.println(num);\n",
    "}"
   ]
  },
  {
   "cell_type": "code",
   "execution_count": null,
   "metadata": {},
   "outputs": [],
   "source": [
    "double[] values = new double[5];\n",
    "\n",
    "for (int i = 0; i < values.length; i++) {\n",
    "  values[i] = Math.random();\n",
    "  System.out.println(values[i]);\n",
    "}\n"
   ]
  },
  {
   "cell_type": "code",
   "execution_count": null,
   "metadata": {},
   "outputs": [],
   "source": [
    "Double[] values = new Double[5];\n",
    "\n",
    "for (int i = 0; i < values.length; i++) {\n",
    "  values[i] = Math.random();\n",
    "  System.out.println(values[i]);\n",
    "}\n"
   ]
  },
  {
   "cell_type": "code",
   "execution_count": null,
   "metadata": {},
   "outputs": [],
   "source": [
    "boolean[] boolArray = {true, false, true};\n",
    "\n",
    "for (int i = 0; i < boolArray.length; i++) {\n",
    "  char c = boolArray[i] ? 'T' : 'F';\n",
    "  System.out.println(c);\n",
    "}\n"
   ]
  },
  {
   "cell_type": "code",
   "execution_count": null,
   "metadata": {},
   "outputs": [],
   "source": [
    "Boolean[] boolArray = {true, false, true};\n",
    "\n",
    "for (int i = 0; i < boolArray.length; i++) {\n",
    "  char c = boolArray[i] ? 'T' : 'F';\n",
    "  System.out.println(c);\n",
    "}\n"
   ]
  },
  {
   "cell_type": "code",
   "execution_count": null,
   "metadata": {},
   "outputs": [],
   "source": [
    "public static String toString(Double[] array) {\n",
    "    StringBuilder sb = new StringBuilder();\n",
    "    sb.append(\"[\");\n",
    "    for (int i = 0; i < array.length; i++) {\n",
    "        sb.append(array[i].toString());\n",
    "        if (i < array.length - 1) {\n",
    "            sb.append(\", \");\n",
    "        }\n",
    "    }\n",
    "    sb.append(\"]\");\n",
    "    return sb.toString();\n",
    "}\n"
   ]
  }
 ],
 "metadata": {
  "kernelspec": {
   "display_name": "Java",
   "language": "java",
   "name": "java"
  },
  "language_info": {
   "codemirror_mode": "java",
   "file_extension": ".jshell",
   "mimetype": "text/x-java-source",
   "name": "java",
   "pygments_lexer": "java",
   "version": "11.0.17+8-post-Ubuntu-1ubuntu222.04"
  },
  "orig_nbformat": 4
 },
 "nbformat": 4,
 "nbformat_minor": 2
}
