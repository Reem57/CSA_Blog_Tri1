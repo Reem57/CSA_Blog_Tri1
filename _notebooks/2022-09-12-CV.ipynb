{
 "cells": [
  {
   "cell_type": "markdown",
   "metadata": {},
   "source": [
    "# Reem Ben Ishai CV\n",
    "- toc: false \n",
    "- badges: true\n",
    "- comments: true\n",
    "- categories: [markdown]\n",
    "- title: Reem Ben Ishai CV"
   ]
  },
  {
   "cell_type": "markdown",
   "metadata": {},
   "source": [
    "## Aspiration\n",
    "My passion is computer programming and algorithms. I am a hardworking and fast-learning student looking for an internship opportunity in a real-world working environment.  I would love to contribute to the team's success by demonstrating and developing my skills."
   ]
  },
  {
   "cell_type": "markdown",
   "metadata": {},
   "source": [
    "## Education\n",
    "- Junior (11th grade) in Del Norte High School\n",
    "- GPA - 4.19\n",
    "### 10th Grade Classes:\n",
    "  - AP Computer Science - College Credit\n",
    "  - AP Calculus AB - College Credit\n",
    "  - AP Chemistry - College Credit\n",
    "  - Foreign Languages in a private high school - 4 years\n",
    "  - English\n",
    "  - History\n",
    "\n",
    "### 11th Grade Classes:\n",
    "  - AP Environmental Science - College Credit\n",
    "  - AP Statistics - College Credit\n",
    "  - AP Computer Science A - College Credit\n",
    "  - Honors Principles of Engineering\n",
    "  - English\n",
    "  - History\n"
   ]
  },
  {
   "cell_type": "markdown",
   "metadata": {},
   "source": [
    "## Experience & Skills\n",
    "- Summer Classes/ Internships:\n",
    "  -  Stanford two week intrologic course\n",
    "  -  Harvard three week coding summer classes\n",
    "- Professional Del Norte High School Clubs:\n",
    "  -  Algorithmic Coding Club - Competes in the National American Computer Science League\n",
    "  -  Math Club - Competes in the National American Mathematics Competitions \n",
    "- Community Leadership and Volunteering:\n",
    "  -  A group leader in scouts - leading a total of 15 4th graders on a weekly basis.\n",
    "  -  Del Norte Nighthawk Nation Club - contributing to the school social activities\n",
    "- Athletics:\n",
    "  -  Competitive soccer in San Diego Force FC\n",
    "  -  Competes for the award-winning Del Norte High School Track and Field Team\n",
    "- Programing Languages:\n",
    "  -  Python, JavaScript, Html, Css, Java "
   ]
  }
 ],
 "metadata": {
  "kernelspec": {
   "display_name": "Python 3.8.10 64-bit",
   "language": "python",
   "name": "python3"
  },
  "language_info": {
   "name": "python",
   "version": "3.8.10"
  },
  "orig_nbformat": 4,
  "vscode": {
   "interpreter": {
    "hash": "916dbcbb3f70747c44a77c7bcd40155683ae19c65e1c03b4aa3499c5328201f1"
   }
  }
 },
 "nbformat": 4,
 "nbformat_minor": 2
}
