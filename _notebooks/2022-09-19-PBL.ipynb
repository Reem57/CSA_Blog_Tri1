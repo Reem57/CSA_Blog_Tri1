{
 "cells": [
  {
   "cell_type": "markdown",
   "metadata": {},
   "source": [
    "# PBL Brainstorm\n",
    "- toc: true \n",
    "- badges: true\n",
    "- comments: true\n",
    "- categories: [jupyter]\n",
    "- title: PBL Brainstorm"
   ]
  },
  {
   "cell_type": "markdown",
   "metadata": {},
   "source": [
    "## Structure Ideas\n",
    "- build a website with a calendar thats interactive\n",
    "- it changes based on the login\n",
    "- if the login is registered as a teacher, then it would let you change the calendar for all your students\n",
    "- if the login is registered as a student, then it would let you change only the things on your calendar\n",
    "- The login changes most of the features on the website making it easier for teachers and students to interact"
   ]
  },
  {
   "cell_type": "markdown",
   "metadata": {},
   "source": [
    "## Include photoboard:\n",
    "- use the photoboard as the starting point of our group \n",
    "- Change the backend from javascript to java\n",
    "- Make the webpage more CS focused to fit the class\n",
    "- Redesign the page to a more formal background and layout"
   ]
  },
  {
   "cell_type": "markdown",
   "metadata": {},
   "source": [
    "| Team Role | Team Member |\n",
    "| ----------- | ---------------- |\n",
    "| Scrum Master      | Akhil |\n",
    "| DevOps   | Tristan |\n",
    "| Frontend Developer |  Saathvika |\n",
    "| Backend Developer | Re’em |"
   ]
  }
 ],
 "metadata": {
  "kernelspec": {
   "display_name": "Java",
   "language": "java",
   "name": "java"
  },
  "language_info": {
   "name": "java"
  },
  "orig_nbformat": 4
 },
 "nbformat": 4,
 "nbformat_minor": 2
}
