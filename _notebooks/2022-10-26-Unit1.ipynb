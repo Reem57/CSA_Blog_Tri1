{
 "cells": [
  {
   "cell_type": "markdown",
   "metadata": {},
   "source": [
    "# Unit 1 Homework\n",
    "- toc: true \n",
    "- badges: true\n",
    "- comments: true\n",
    "- categories: [jupyter]\n",
    "- title: Unit 1 Homework"
   ]
  },
  {
   "cell_type": "markdown",
   "metadata": {},
   "source": [
    "Final Grade Calculator (calculates necessary score for the final):\n",
    "- First takes in boolean of whether final is in a seperate category or tests cateogry\n",
    "- If final is in seperate category\n",
    "  - take in current grade\n",
    "  - take in % of grade that is final\n",
    "  - take in the desired grade\n",
    "  - output % score needed on the final\n",
    "- If final is in a \"tests\" category\n",
    "  - take in current grade\n",
    "  - take in % of grade that is tests category\n",
    "  - take in current % in tests category\n",
    "  - take in CURRENT amount of points in tests category (here integer can be used i suppose)\n",
    "  - take in amount of points that the final is (here integer can be used i suppose)\n",
    "  - take in the desired grade\n",
    "  - output # of points needed on the final\n",
    "All of these should be taken using user input (Scanner).\n",
    "Example Input:\n",
    "false\n",
    "20\n",
    "93.0\n",
    "90.0\n",
    "Example Output (would be correct if contains a 78):\n",
    "Is the final in the tests category?\n",
    "What is your current grade?\n",
    "How much percent of your grade is the final?\n",
    "What is your desired grade?\n",
    "You need a 78.0 on the test\n"
   ]
  },
  {
   "cell_type": "code",
   "execution_count": 9,
   "metadata": {
    "vscode": {
     "languageId": "java"
    }
   },
   "outputs": [
    {
     "name": "stdout",
     "output_type": "stream",
     "text": [
      "Is the final in its own category? \n",
      " 1 - True \n",
      " 2 - False\n",
      "What is your current grade?\n",
      "How much percent of your grade is the final?\n",
      "What is your desired grade?\n",
      "You need to get at least a 43.56% on you final to get a 46.0"
     ]
    }
   ],
   "source": [
    "import java.util.Scanner;  // Import the Scanner class\n",
    "int separate = 0;\n",
    "double g = 96; // Current Class Grade\n",
    "double percentFinal = 30;\n",
    "double finalScore = 0;\n",
    "int t = 80; // test percent of the grade\n",
    "int p = 300; // point in the test category\n",
    "int f = 100; // points that the final is worth\n",
    "double a = 92; // percent of points scored within the test category\n",
    "double w = 90; // wanted grade\n",
    "\n",
    "Scanner finalQ = new Scanner(System.in);  // Create a Scanner object\n",
    "System.out.println(\"Is the final in its own category? \\n 1 - True \\n 2 - False\");\n",
    "separate = finalQ.nextInt();\n",
    "if(separate == 1){\n",
    "    System.out.println(\"What is your current grade?\");\n",
    "    g = finalQ.nextDouble();\n",
    "    System.out.println(\"How much percent of your grade is the final?\");\n",
    "    percentFinal = finalQ.nextDouble();\n",
    "    System.out.println(\"What is your desired grade?\");\n",
    "    w = finalQ.nextDouble();\n",
    "    finalScore = (w -g * (100.0- percentFinal)/100) / (percentFinal/100);\n",
    "    System.out.print(\"You need to get at least a \" + String.format(\"%.2f\", (finalScore/f)*100) + \"% on you final to get a \" + w);\n",
    "}\n",
    "else if(separate == 2){\n",
    "    System.out.print(\"What is your current grade? \");\n",
    "    g = finalQ.nextDouble();\n",
    "    System.out.println(g);\n",
    "\n",
    "    System.out.print(\"How much is your test category worth? \");\n",
    "    t = finalQ.nextInt();\n",
    "    System.out.println(t);\n",
    "\n",
    "    System.out.print(\"How many point are in the test category? \");\n",
    "    p = finalQ.nextInt();\n",
    "    System.out.println(p);\n",
    "\n",
    "    System.out.print(\"How many point is the final? \");\n",
    "    f = finalQ.nextInt();\n",
    "    System.out.println(f);\n",
    "\n",
    "    System.out.print(\"What is your grade in the test category? \");\n",
    "    a = finalQ.nextDouble();\n",
    "    System.out.println(a);\n",
    "\n",
    "    System.out.print(\"What is your desired grade? \");\n",
    "    w = finalQ.nextDouble();\n",
    "    System.out.println(w);\n",
    "\n",
    "    finalScore = ((0.01*a*f*t)-(f*g)+(f*w)-(g*p)+(p*w))/t;\n",
    "    System.out.print(\"You need to get at least a \" + String.format(\"%.2f\", (finalScore/f)*100) + \"% on you final to get a \" + w);\n",
    "}\n",
    "else{\n",
    "    System.out.print(\"Unexpected choice, try again.\");\n",
    "}\n",
    "\n",
    "        \n",
    "\n"
   ]
  }
 ],
 "metadata": {
  "kernelspec": {
   "display_name": "Java",
   "language": "java",
   "name": "java"
  },
  "language_info": {
   "codemirror_mode": "java",
   "file_extension": ".jshell",
   "mimetype": "text/x-java-source",
   "name": "Java",
   "pygments_lexer": "java",
   "version": "11.0.16+8-post-Ubuntu-0ubuntu120.04"
  },
  "orig_nbformat": 4,
  "vscode": {
   "interpreter": {
    "hash": "916dbcbb3f70747c44a77c7bcd40155683ae19c65e1c03b4aa3499c5328201f1"
   }
  }
 },
 "nbformat": 4,
 "nbformat_minor": 2
}
