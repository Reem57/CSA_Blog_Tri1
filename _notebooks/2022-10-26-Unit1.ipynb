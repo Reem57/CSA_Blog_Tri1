{
 "cells": [
  {
   "cell_type": "markdown",
   "metadata": {},
   "source": [
    "# Unit 1 Homework\n",
    "- toc: true \n",
    "- badges: true\n",
    "- comments: true\n",
    "- categories: [jupyter]\n",
    "- title: Unit 1 Homework"
   ]
  },
  {
   "cell_type": "code",
   "execution_count": null,
   "metadata": {
    "vscode": {
     "languageId": "java"
    }
   },
   "outputs": [],
   "source": []
  },
  {
   "cell_type": "markdown",
   "metadata": {},
   "source": [
    "Final Grade Calculator (calculates necessary score for the final):\n",
    "- First takes in boolean of whether final is in a seperate category or tests cateogry\n",
    "- If final is in seperate category\n",
    "  - take in current grade\n",
    "  - take in % of grade that is final\n",
    "  - take in the desired grade\n",
    "  - output % score needed on the final\n",
    "- If final is in a \"tests\" category\n",
    "  - take in current grade\n",
    "  - take in % of grade that is tests category\n",
    "  - take in current % in tests category\n",
    "  - take in CURRENT amount of points in tests category (here integer can be used i suppose)\n",
    "  - take in amount of points that the final is (here integer can be used i suppose)\n",
    "  - take in the desired grade\n",
    "  - output # of points needed on the final\n",
    "All of these should be taken using user input (Scanner).\n",
    "Example Input:\n",
    "false\n",
    "20\n",
    "93.0\n",
    "90.0\n",
    "Example Output (would be correct if contains a 78):\n",
    "Is the final in the tests category?\n",
    "What is your current grade?\n",
    "How much percent of your grade is the final?\n",
    "What is your desired grade?\n",
    "You need a 78.0 on the test\n"
   ]
  },
  {
   "cell_type": "code",
   "execution_count": 28,
   "metadata": {
    "vscode": {
     "languageId": "java"
    }
   },
   "outputs": [
    {
     "name": "stdout",
     "output_type": "stream",
     "text": [
      "Is the final in the tests category? \n",
      " 1 - True \n",
      " 2 - False\n"
     ]
    },
    {
     "ename": "CompilationException",
     "evalue": "",
     "output_type": "error",
     "traceback": [
      "\u001b[1m\u001b[30m|   \u001b[1m\u001b[30mseperate = \u001b[0m\u001b[1m\u001b[30m\u001b[41mfinalQ.nextInt()\u001b[0m\u001b[1m\u001b[30m;\u001b[0m",
      "\u001b[1m\u001b[31mincompatible types: int cannot be converted to java.lang.String\u001b[0m",
      ""
     ]
    }
   ],
   "source": [
    "import java.util.Scanner;  // Import the Scanner class\n",
    "double currentGrade = 82.0;\n",
    "double percentFinal = 30;\n",
    "double finalScore = 0;\n",
    "int pointsTest = 0;\n",
    "int finalPoints = 0;\n",
    "double goalGrade = 85;\n",
    "\n",
    "Scanner finalQ = new Scanner(System.in);  // Create a Scanner object\n",
    "System.out.println(\"Is the final in the tests category? \\n 1 - True \\n 2 - False\");\n",
    "seperate = finalQ.nextInt();\n",
    "if(seperate == 1){\n",
    "            \n",
    "}\n",
    "else if(seperate == 2){\n",
    "}\n",
    "else{\n",
    "    System.out.print(\"Unexpected choice, try again.\");\n",
    "}\n",
    "return seperate;\n",
    "        \n",
    "\n",
    "// finalScore = (goalGrade -currentGrade * (100.0- percentFinal)/100) / (percentFinal/100);\n",
    "// System.out.print(finalScore);"
   ]
  }
 ],
 "metadata": {
  "kernelspec": {
   "display_name": "Java",
   "language": "java",
   "name": "java"
  },
  "language_info": {
   "codemirror_mode": "java",
   "file_extension": ".jshell",
   "mimetype": "text/x-java-source",
   "name": "Java",
   "pygments_lexer": "java",
   "version": "11.0.16+8-post-Ubuntu-0ubuntu120.04"
  },
  "orig_nbformat": 4,
  "vscode": {
   "interpreter": {
    "hash": "916dbcbb3f70747c44a77c7bcd40155683ae19c65e1c03b4aa3499c5328201f1"
   }
  }
 },
 "nbformat": 4,
 "nbformat_minor": 2
}
