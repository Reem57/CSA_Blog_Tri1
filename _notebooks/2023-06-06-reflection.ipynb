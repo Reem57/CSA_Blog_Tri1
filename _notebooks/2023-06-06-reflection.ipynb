{
 "cells": [
  {
   "attachments": {},
   "cell_type": "markdown",
   "metadata": {},
   "source": [
    "# Reflection"
   ]
  },
  {
   "attachments": {},
   "cell_type": "markdown",
   "metadata": {},
   "source": [
    "### Skills\n",
    " - Working in the backend (Java)\n",
    " - I learned how to work in a more challenging team\n",
    " - Css implantation especially for buttons\n",
    " - Working with JavaScript to create the interactive map and as more backend features"
   ]
  },
  {
   "attachments": {},
   "cell_type": "markdown",
   "metadata": {},
   "source": [
    "### Lows\n",
    "- I was in a more challenging team in the second trimester\n",
    "- This was my lowest point this year because I understood that our final product will not be as good as it should"
   ]
  },
  {
   "attachments": {},
   "cell_type": "markdown",
   "metadata": {},
   "source": [
    "### Highs\n",
    " - Learning how to work with databases in the first trimester using postman was really my high this year\n",
    " -  I had a lot of small bugs involving it and it was really rewarding at the end to have a working final product"
   ]
  },
  {
   "attachments": {},
   "cell_type": "markdown",
   "metadata": {},
   "source": [
    "### Future\n",
    " - My future in computer science is probably going to be my job and my minor in college\n",
    " - I always had a passion for computer science but I am thinking I should go into math now instead\n",
    " -  My dream school is still UCLA for a degree in applied math and minor in Computer Science"
   ]
  }
 ],
 "metadata": {
  "language_info": {
   "name": "python"
  },
  "orig_nbformat": 4
 },
 "nbformat": 4,
 "nbformat_minor": 2
}
