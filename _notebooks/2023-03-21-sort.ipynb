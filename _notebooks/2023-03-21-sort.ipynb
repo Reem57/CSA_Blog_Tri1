{
 "cells": [
  {
   "attachments": {},
   "cell_type": "markdown",
   "metadata": {},
   "source": [
    "# Sorting\n",
    "- toc: true \n",
    "- badges: true\n",
    "- comments: true\n",
    "- categories: [jupyter]\n",
    "- title: Sorting"
   ]
  },
  {
   "attachments": {},
   "cell_type": "markdown",
   "metadata": {},
   "source": [
    "### Selection Sorting"
   ]
  },
  {
   "attachments": {},
   "cell_type": "markdown",
   "metadata": {},
   "source": [
    "This code implements the Selection Sort algorithm to sort an array in ascending order. It does so by iterating over the array n-1 times, each time finding the smallest element in the unsorted portion of the array and swapping it with the first element in the unsorted portion of the array. The algorithm has a time complexity of O(n^2) and is generally less efficient than other sorting algorithms, such as the Merge Sort and Quick Sort. However, it can be useful in certain situations, such as when memory usage is a concern."
   ]
  },
  {
   "cell_type": "code",
   "execution_count": 57,
   "metadata": {
    "vscode": {
     "languageId": "java"
    }
   },
   "outputs": [
    {
     "name": "stdout",
     "output_type": "stream",
     "text": [
      "[32, 96, 7, 3, 68]\n",
      "[3, 96, 7, 32, 68]\n",
      "[3, 7, 96, 32, 68]\n",
      "[3, 7, 32, 96, 68]\n",
      "[3, 7, 32, 68, 96]\n"
     ]
    }
   ],
   "source": [
    "import java.util.Arrays;\n",
    "\n",
    "public class SelectionSort {\n",
    "\n",
    "    public static void main(int[] arr) {\n",
    "        \n",
    "\n",
    "        // Get the length of the array\n",
    "        int n = arr.length;\n",
    "\n",
    "        // Iterate over the array n-1 times\n",
    "        for (int i = 0; i < n - 1; i++) {\n",
    "            // Print out the array at the beginning of each iteration\n",
    "            //System.out.println(Arrays.toString(arr));\n",
    "\n",
    "            // Set the minimum index to the current index\n",
    "            int minIndex = i;\n",
    "\n",
    "            // Find the index of the smallest element in the unsorted portion of the array\n",
    "            for (int j = i + 1; j < n; j++) {\n",
    "                if (arr[j] < arr[minIndex]) {\n",
    "                    minIndex = j;\n",
    "                }\n",
    "            }\n",
    "\n",
    "            // Swap the smallest element with the first element in the unsorted portion of the array\n",
    "            int temp = arr[minIndex];\n",
    "            arr[minIndex] = arr[i];\n",
    "            arr[i] = temp;\n",
    "        }\n",
    "\n",
    "        // Print out the sorted array\n",
    "        //System.out.println(Arrays.toString(arr));\n",
    "    }\n",
    "}\n",
    "\n",
    "// Call the SelectionSorting.main() method to run the program\n",
    "int[] arr = {32,96, 7, 3, 68};\n",
    "SelectionSort.main(arr);\n"
   ]
  },
  {
   "attachments": {},
   "cell_type": "markdown",
   "metadata": {},
   "source": [
    "### Insertion Sort"
   ]
  },
  {
   "attachments": {},
   "cell_type": "markdown",
   "metadata": {},
   "source": [
    "This code implements the Insertion Sort algorithm to sort an array in ascending order. It does so by iterating over the array and inserting each element into its correct position in the sorted portion of the array. The algorithm has a time complexity of O(n^2) but can be more efficient than other O(n^2) algorithms, such as the Selection Sort and Bubble Sort, for small arrays or partially sorted arrays. Since each swap takes constant time, the total time complexity of the algorithm becomes O(n^2)."
   ]
  },
  {
   "cell_type": "code",
   "execution_count": 58,
   "metadata": {
    "vscode": {
     "languageId": "java"
    }
   },
   "outputs": [
    {
     "name": "stdout",
     "output_type": "stream",
     "text": [
      "[32, 96, 7, 3, 68]\n",
      "[32, 96, 7, 3, 68]\n",
      "[7, 32, 96, 3, 68]\n",
      "[3, 7, 32, 96, 68]\n",
      "[3, 7, 32, 68, 96]\n"
     ]
    }
   ],
   "source": [
    "import java.util.Arrays;\n",
    "\n",
    "public class InsertionSort {\n",
    "    public static void main(int[] arr) {\n",
    "        \n",
    "\n",
    "        // Iterate over the array starting from the second element\n",
    "        for (int i = 1; i < arr.length; i++) {\n",
    "            // Print out the array at the beginning of each iteration\n",
    "            //System.out.println(Arrays.toString(arr));\n",
    "\n",
    "            // Assign the current element to a temporary variable 'key'\n",
    "            int key = arr[i];\n",
    "            // Set j to the index of the element immediately to the left of the current element\n",
    "            int j = i - 1;\n",
    "\n",
    "            // Shift any elements to the right of 'key' that are greater than 'key'\n",
    "            // to the right, until we find the correct position for 'key'\n",
    "            while (j >= 0 && arr[j] > key) {\n",
    "                arr[j + 1] = arr[j];\n",
    "                j = j - 1;\n",
    "            }\n",
    "\n",
    "            // Insert 'key' into the correct position in the sorted portion of the array\n",
    "            arr[j + 1] = key;\n",
    "        }\n",
    "\n",
    "        // Print out the sorted array\n",
    "        //System.out.println(Arrays.toString(arr));\n",
    "    }\n",
    "}\n",
    "\n",
    "// Call the InsertionSort.main() method to run the program\n",
    "int[] arr = {32, 96, 7, 3, 68};\n",
    "InsertionSort.main(arr);\n"
   ]
  },
  {
   "attachments": {},
   "cell_type": "markdown",
   "metadata": {},
   "source": [
    "### Merge Sort"
   ]
  },
  {
   "attachments": {},
   "cell_type": "markdown",
   "metadata": {},
   "source": [
    "Merge Sort is a divide-and-conquer algorithm that sorts an array by recursively dividing it into two halves, sorting the two halves, and then merging the two sorted halves. The mergeSort method is used to divide the array into subarrays and sort them, while the merge method is used to merge the two sorted subarrays back into the original array. The algorithm has a time complexity of O(n log n) and is a popular choice for sorting large data sets."
   ]
  },
  {
   "cell_type": "code",
   "execution_count": 59,
   "metadata": {
    "vscode": {
     "languageId": "java"
    }
   },
   "outputs": [
    {
     "name": "stdout",
     "output_type": "stream",
     "text": [
      "[32, 96, 7, 3, 68]\n",
      "[3, 7, 32, 68, 96]\n"
     ]
    }
   ],
   "source": [
    "import java.util.Arrays;\n",
    "\n",
    "public class MergeSort {\n",
    "\n",
    "    public static void main(int[] arr) {\n",
    "        \n",
    "        //System.out.println(Arrays.toString(arr));\n",
    "\n",
    "        mergeSort(arr, 0, arr.length - 1);\n",
    "\n",
    "        //System.out.println(Arrays.toString(arr));\n",
    "    }\n",
    "\n",
    "    public static void mergeSort(int[] arr, int left, int right) {\n",
    "        if (left < right) {\n",
    "            // Find the middle point of the array\n",
    "            int middle = (left + right) / 2;\n",
    "\n",
    "            // Sort the left half of the array recursively\n",
    "            mergeSort(arr, left, middle);\n",
    "\n",
    "            // Sort the right half of the array recursively\n",
    "            mergeSort(arr, middle + 1, right);\n",
    "\n",
    "            // Merge the two sorted halves of the array\n",
    "            merge(arr, left, middle, right);\n",
    "        }\n",
    "    }\n",
    "\n",
    "    public static void merge(int[] arr, int left, int middle, int right) {\n",
    "        // Find the lengths of the two subarrays\n",
    "        int n1 = middle - left + 1;\n",
    "        int n2 = right - middle;\n",
    "\n",
    "        // Create temporary arrays to store the two subarrays\n",
    "        int[] leftArr = new int[n1];\n",
    "        int[] rightArr = new int[n2];\n",
    "\n",
    "        // Copy the elements of the left subarray into the leftArr array\n",
    "        for (int i = 0; i < n1; i++) {\n",
    "            leftArr[i] = arr[left + i];\n",
    "        }\n",
    "\n",
    "        // Copy the elements of the right subarray into the rightArr array\n",
    "        for (int j = 0; j < n2; j++) {\n",
    "            rightArr[j] = arr[middle + 1 + j];\n",
    "        }\n",
    "\n",
    "        // Merge the two subarrays\n",
    "        int i = 0, j = 0, k = left;\n",
    "        while (i < n1 && j < n2) {\n",
    "            if (leftArr[i] <= rightArr[j]) {\n",
    "                arr[k] = leftArr[i];\n",
    "                i++;\n",
    "            } else {\n",
    "                arr[k] = rightArr[j];\n",
    "                j++;\n",
    "            }\n",
    "            k++;\n",
    "        }\n",
    "\n",
    "        // Copy the remaining elements of the left subarray into the merged array\n",
    "        while (i < n1) {\n",
    "            arr[k] = leftArr[i];\n",
    "            i++;\n",
    "            k++;\n",
    "        }\n",
    "\n",
    "        // Copy the remaining elements of the right subarray into the merged array\n",
    "        while (j < n2) {\n",
    "            arr[k] = rightArr[j];\n",
    "            j++;\n",
    "            k++;\n",
    "        }\n",
    "    }\n",
    "}\n",
    "\n",
    "// Call the MergeSort.main() method to run the program\n",
    "int[] arr = {32, 96, 7, 3, 68};\n",
    "MergeSort.main(arr);"
   ]
  },
  {
   "attachments": {},
   "cell_type": "markdown",
   "metadata": {},
   "source": [
    "### Bubble Sort"
   ]
  },
  {
   "attachments": {},
   "cell_type": "markdown",
   "metadata": {},
   "source": [
    "This Java program demonstrates the Bubble Sort algorithm for sorting an array of integers in ascending order. The program declares an array of integers, initializes it with values, and then uses a nested while and for loop to iterate over the array and compare adjacent elements. If the current element is less than the previous element, the two elements are swapped. This process continues until no more swaps are necessary, at which point the sorted array is printed to the console. The program also includes comments to explain each section of the code. "
   ]
  },
  {
   "cell_type": "code",
   "execution_count": 60,
   "metadata": {
    "vscode": {
     "languageId": "java"
    }
   },
   "outputs": [
    {
     "name": "stdout",
     "output_type": "stream",
     "text": [
      "[32, 96, 7, 3, 68]\n",
      "[32, 96, 7, 3, 68]\n",
      "[32, 7, 96, 3, 68]\n",
      "[32, 7, 3, 96, 68]\n",
      "[32, 7, 3, 68, 96]\n",
      "[7, 32, 3, 68, 96]\n",
      "[7, 3, 32, 68, 96]\n",
      "[7, 3, 32, 68, 96]\n",
      "[7, 3, 32, 68, 96]\n",
      "[3, 7, 32, 68, 96]\n",
      "[3, 7, 32, 68, 96]\n",
      "[3, 7, 32, 68, 96]\n",
      "[3, 7, 32, 68, 96]\n",
      "[3, 7, 32, 68, 96]\n",
      "[3, 7, 32, 68, 96]\n",
      "[3, 7, 32, 68, 96]\n",
      "[3, 7, 32, 68, 96]\n"
     ]
    }
   ],
   "source": [
    "import java.util.Arrays;\n",
    "\n",
    "public class BubbleSort {\n",
    "    public static void main(int[] arr) {\n",
    "        \n",
    "        boolean swap = true;\n",
    "\n",
    "        while(swap){\n",
    "            swap = false; \n",
    "            for (int i = 1; i < arr.length; i++) {\n",
    "                // Print out the array at the beginning of each iteration\n",
    "                //System.out.println(Arrays.toString(arr));\n",
    "                \n",
    "                int temp = 0;\n",
    "                if (arr[i] < arr[i-1]){\n",
    "                    swap = true;\n",
    "                    temp = arr[i];\n",
    "                    arr[i] = arr[i-1];\n",
    "                    arr[i-1] = temp;\n",
    "                }\n",
    "            }\n",
    "        }\n",
    "        //System.out.println(Arrays.toString(arr));\n",
    "    }\n",
    "}\n",
    "\n",
    "// Call the BubbleSort.main() method to run the program\n",
    "int[] arr = {32, 96, 7, 3, 68};\n",
    "BubbleSort.main(arr);\n"
   ]
  },
  {
   "attachments": {},
   "cell_type": "markdown",
   "metadata": {},
   "source": [
    "### Time Analysis"
   ]
  },
  {
   "cell_type": "code",
   "execution_count": 56,
   "metadata": {
    "vscode": {
     "languageId": "java"
    }
   },
   "outputs": [
    {
     "name": "stdout",
     "output_type": "stream",
     "text": [
      "Selection Sort Average: 7445296\n",
      "Insertion Sort Average: 3975\n",
      "Merge Sort Average: 349975\n",
      "Bubble Sort Average: 1730\n"
     ]
    }
   ],
   "source": [
    "public class TimeAnalysis {\n",
    "    public static void main(String[] arg) {\n",
    "        long totaltime1 = 0;\n",
    "        long totaltime2 = 0;\n",
    "        long totaltime3 = 0;\n",
    "        long totaltime4 = 0;\n",
    "        int repeat = 100;\n",
    "        for(int j = 0; j < repeat; j++){\n",
    "\n",
    "            // making a 5000 int array \n",
    "            int[] arr = new int[5000];\n",
    "            for (int i = 0; i < arr.length; i++) {\n",
    "            arr[i] = (int) (Math.random() * 10000);\n",
    "        }\n",
    "            // time output selection\n",
    "            \n",
    "            long start1 = System.nanoTime();\n",
    "            SelectionSort.main(arr);\n",
    "            long end1 = System.nanoTime();\n",
    "            long time1 = end1 - start1;\n",
    "            totaltime1 += (time1);\n",
    "           \n",
    "            // time output insertion\n",
    "            long start2 = System.nanoTime();\n",
    "            InsertionSort.main(arr);\n",
    "            long end2 = System.nanoTime();\n",
    "            long time2 = end2 - start2;\n",
    "            totaltime2 += (time2);\n",
    "\n",
    "            // time output Merge\n",
    "            long start3 = System.nanoTime();\n",
    "            MergeSort.main(arr);\n",
    "            long end3 = System.nanoTime();\n",
    "            long time3 = end3 - start3;\n",
    "            totaltime3 += (time3);\n",
    "\n",
    "            // time output Bubble\n",
    "            long start4 = System.nanoTime();\n",
    "            BubbleSort.main(arr);\n",
    "            long end4 = System.nanoTime();\n",
    "            long time4 = end4 - start4;\n",
    "            totaltime4 += (time4);\n",
    "        }\n",
    "        System.out.println(\"Selection Sort Average: \" + totaltime1/repeat);\n",
    "        System.out.println(\"Insertion Sort Average: \" + totaltime2/repeat);\n",
    "        System.out.println(\"Merge Sort Average: \" + totaltime3/repeat);\n",
    "        System.out.println(\"Bubble Sort Average: \" + totaltime4/repeat);\n",
    "    }\n",
    "}\n",
    "\n",
    "\n",
    "// Call the TimeAnalysis.main() method to run the program\n",
    "TimeAnalysis.main(null);\n",
    "\n"
   ]
  }
 ],
 "metadata": {
  "kernelspec": {
   "display_name": "Java",
   "language": "java",
   "name": "java"
  },
  "language_info": {
   "codemirror_mode": "java",
   "file_extension": ".jshell",
   "mimetype": "text/x-java-source",
   "name": "Java",
   "pygments_lexer": "java",
   "version": "11.0.17+8-post-Ubuntu-1ubuntu222.04"
  },
  "orig_nbformat": 4
 },
 "nbformat": 4,
 "nbformat_minor": 2
}
