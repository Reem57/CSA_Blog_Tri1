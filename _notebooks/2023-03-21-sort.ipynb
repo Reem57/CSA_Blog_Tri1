{
 "cells": [
  {
   "attachments": {},
   "cell_type": "markdown",
   "metadata": {},
   "source": [
    "# Sorting\n",
    "- toc: true \n",
    "- badges: true\n",
    "- comments: true\n",
    "- categories: [jupyter]\n",
    "- title: Sorting"
   ]
  },
  {
   "attachments": {},
   "cell_type": "markdown",
   "metadata": {},
   "source": [
    "### Selection Sorting"
   ]
  },
  {
   "attachments": {},
   "cell_type": "markdown",
   "metadata": {},
   "source": [
    "This code implements the Selection Sort algorithm to sort an array in ascending order. It does so by iterating over the array n-1 times, each time finding the smallest element in the unsorted portion of the array and swapping it with the first element in the unsorted portion of the array. The algorithm has a time complexity of O(n^2) and is generally less efficient than other sorting algorithms, such as the Merge Sort and Quick Sort. However, it can be useful in certain situations, such as when memory usage is a concern."
   ]
  },
  {
   "cell_type": "code",
   "execution_count": 94,
   "metadata": {},
   "outputs": [
    {
     "name": "stdout",
     "output_type": "stream",
     "text": [
      "[32, 96, 7, 3, 68]\n",
      "[3, 96, 7, 32, 68]\n",
      "[3, 7, 96, 32, 68]\n",
      "[3, 7, 32, 96, 68]\n",
      "[3, 7, 32, 68, 96]\n"
     ]
    }
   ],
   "source": [
    "import java.util.Arrays;\n",
    "\n",
    "public class SelectionSort {\n",
    "\n",
    "    public static void main(int[] arr) {\n",
    "        \n",
    "\n",
    "        // Get the length of the array\n",
    "        int n = arr.length;\n",
    "\n",
    "        // Iterate over the array n-1 times\n",
    "        for (int i = 0; i < n - 1; i++) {\n",
    "            // Print out the array at the beginning of each iteration\n",
    "            //System.out.println(Arrays.toString(arr));\n",
    "\n",
    "            // Set the minimum index to the current index\n",
    "            int minIndex = i;\n",
    "\n",
    "            // Find the index of the smallest element in the unsorted portion of the array\n",
    "            for (int j = i + 1; j < n; j++) {\n",
    "                if (arr[j] < arr[minIndex]) {\n",
    "                    minIndex = j;\n",
    "                }\n",
    "            }\n",
    "\n",
    "            // Swap the smallest element with the first element in the unsorted portion of the array\n",
    "            int temp = arr[minIndex];\n",
    "            arr[minIndex] = arr[i];\n",
    "            arr[i] = temp;\n",
    "        }\n",
    "\n",
    "        // Print out the sorted array\n",
    "        //System.out.println(Arrays.toString(arr));\n",
    "    }\n",
    "}\n",
    "\n",
    "// Call the SelectionSorting.main() method to run the program\n",
    "int[] arr = {32,96, 7, 3, 68};\n",
    "SelectionSort.main(arr);\n"
   ]
  },
  {
   "attachments": {},
   "cell_type": "markdown",
   "metadata": {},
   "source": [
    "### Insertion Sort"
   ]
  },
  {
   "attachments": {},
   "cell_type": "markdown",
   "metadata": {},
   "source": [
    "This code implements the Insertion Sort algorithm to sort an array in ascending order. It does so by iterating over the array and inserting each element into its correct position in the sorted portion of the array. The algorithm has a time complexity of O(n^2) but can be more efficient than other O(n^2) algorithms, such as the Selection Sort and Bubble Sort, for small arrays or partially sorted arrays. Since each swap takes constant time, the total time complexity of the algorithm becomes O(n^2)."
   ]
  },
  {
   "cell_type": "code",
   "execution_count": 95,
   "metadata": {},
   "outputs": [
    {
     "name": "stdout",
     "output_type": "stream",
     "text": [
      "[32, 96, 7, 3, 68]\n",
      "[32, 96, 7, 3, 68]\n",
      "[7, 32, 96, 3, 68]\n",
      "[3, 7, 32, 96, 68]\n",
      "[3, 7, 32, 68, 96]\n"
     ]
    }
   ],
   "source": [
    "import java.util.Arrays;\n",
    "\n",
    "public class InsertionSort {\n",
    "    public static void main(int[] arr) {\n",
    "        \n",
    "\n",
    "        // Iterate over the array starting from the second element\n",
    "        for (int i = 1; i < arr.length; i++) {\n",
    "            // Print out the array at the beginning of each iteration\n",
    "            //System.out.println(Arrays.toString(arr));\n",
    "\n",
    "            // Assign the current element to a temporary variable 'key'\n",
    "            int key = arr[i];\n",
    "            // Set j to the index of the element immediately to the left of the current element\n",
    "            int j = i - 1;\n",
    "\n",
    "            // Shift any elements to the right of 'key' that are greater than 'key'\n",
    "            // to the right, until we find the correct position for 'key'\n",
    "            while (j >= 0 && arr[j] > key) {\n",
    "                arr[j + 1] = arr[j];\n",
    "                j = j - 1;\n",
    "            }\n",
    "\n",
    "            // Insert 'key' into the correct position in the sorted portion of the array\n",
    "            arr[j + 1] = key;\n",
    "        }\n",
    "\n",
    "        // Print out the sorted array\n",
    "        //System.out.println(Arrays.toString(arr));\n",
    "    }\n",
    "}\n",
    "\n",
    "// Call the InsertionSort.main() method to run the program\n",
    "int[] arr = {32, 96, 7, 3, 68};\n",
    "InsertionSort.main(arr);\n"
   ]
  },
  {
   "attachments": {},
   "cell_type": "markdown",
   "metadata": {},
   "source": [
    "### Merge Sort"
   ]
  },
  {
   "attachments": {},
   "cell_type": "markdown",
   "metadata": {},
   "source": [
    "Merge Sort is a divide-and-conquer algorithm that sorts an array by recursively dividing it into two halves, sorting the two halves, and then merging the two sorted halves. The mergeSort method is used to divide the array into subarrays and sort them, while the merge method is used to merge the two sorted subarrays back into the original array. The algorithm has a time complexity of O(n log n) and is a popular choice for sorting large data sets."
   ]
  },
  {
   "cell_type": "code",
   "execution_count": 96,
   "metadata": {},
   "outputs": [
    {
     "name": "stdout",
     "output_type": "stream",
     "text": [
      "[32, 96, 7, 3, 68]\n",
      "[3, 7, 32, 68, 96]\n"
     ]
    }
   ],
   "source": [
    "import java.util.Arrays;\n",
    "\n",
    "public class MergeSort {\n",
    "\n",
    "    public static void main(int[] arr) {\n",
    "        \n",
    "        //System.out.println(Arrays.toString(arr));\n",
    "\n",
    "        mergeSort(arr, 0, arr.length - 1);\n",
    "\n",
    "        //System.out.println(Arrays.toString(arr));\n",
    "    }\n",
    "\n",
    "    public static void mergeSort(int[] arr, int left, int right) {\n",
    "        if (left < right) {\n",
    "            // Find the middle point of the array\n",
    "            int middle = (left + right) / 2;\n",
    "\n",
    "            // Sort the left half of the array recursively\n",
    "            mergeSort(arr, left, middle);\n",
    "\n",
    "            // Sort the right half of the array recursively\n",
    "            mergeSort(arr, middle + 1, right);\n",
    "\n",
    "            // Merge the two sorted halves of the array\n",
    "            merge(arr, left, middle, right);\n",
    "        }\n",
    "    }\n",
    "\n",
    "    public static void merge(int[] arr, int left, int middle, int right) {\n",
    "        // Find the lengths of the two subarrays\n",
    "        int n1 = middle - left + 1;\n",
    "        int n2 = right - middle;\n",
    "\n",
    "        // Create temporary arrays to store the two subarrays\n",
    "        int[] leftArr = new int[n1];\n",
    "        int[] rightArr = new int[n2];\n",
    "\n",
    "        // Copy the elements of the left subarray into the leftArr array\n",
    "        for (int i = 0; i < n1; i++) {\n",
    "            leftArr[i] = arr[left + i];\n",
    "        }\n",
    "\n",
    "        // Copy the elements of the right subarray into the rightArr array\n",
    "        for (int j = 0; j < n2; j++) {\n",
    "            rightArr[j] = arr[middle + 1 + j];\n",
    "        }\n",
    "\n",
    "        // Merge the two subarrays\n",
    "        int i = 0, j = 0, k = left;\n",
    "        while (i < n1 && j < n2) {\n",
    "            if (leftArr[i] <= rightArr[j]) {\n",
    "                arr[k] = leftArr[i];\n",
    "                i++;\n",
    "            } else {\n",
    "                arr[k] = rightArr[j];\n",
    "                j++;\n",
    "            }\n",
    "            k++;\n",
    "        }\n",
    "\n",
    "        // Copy the remaining elements of the left subarray into the merged array\n",
    "        while (i < n1) {\n",
    "            arr[k] = leftArr[i];\n",
    "            i++;\n",
    "            k++;\n",
    "        }\n",
    "\n",
    "        // Copy the remaining elements of the right subarray into the merged array\n",
    "        while (j < n2) {\n",
    "            arr[k] = rightArr[j];\n",
    "            j++;\n",
    "            k++;\n",
    "        }\n",
    "    }\n",
    "}\n",
    "\n",
    "// Call the MergeSort.main() method to run the program\n",
    "int[] arr = {32, 96, 7, 3, 68};\n",
    "MergeSort.main(arr);"
   ]
  },
  {
   "attachments": {},
   "cell_type": "markdown",
   "metadata": {},
   "source": [
    "### Bubble Sort"
   ]
  },
  {
   "attachments": {},
   "cell_type": "markdown",
   "metadata": {},
   "source": [
    "This Java program demonstrates the Bubble Sort algorithm for sorting an array of integers in ascending order. The program declares an array of integers, initializes it with values, and then uses a nested while and for loop to iterate over the array and compare adjacent elements. If the current element is less than the previous element, the two elements are swapped. This process continues until no more swaps are necessary, at which point the sorted array is printed to the console. The program also includes comments to explain each section of the code. "
   ]
  },
  {
   "cell_type": "code",
   "execution_count": 97,
   "metadata": {},
   "outputs": [
    {
     "name": "stdout",
     "output_type": "stream",
     "text": [
      "[32, 96, 7, 3, 68]\n",
      "[32, 96, 7, 3, 68]\n",
      "[32, 7, 96, 3, 68]\n",
      "[32, 7, 3, 96, 68]\n",
      "[32, 7, 3, 68, 96]\n",
      "[7, 32, 3, 68, 96]\n",
      "[7, 3, 32, 68, 96]\n",
      "[7, 3, 32, 68, 96]\n",
      "[7, 3, 32, 68, 96]\n",
      "[3, 7, 32, 68, 96]\n",
      "[3, 7, 32, 68, 96]\n",
      "[3, 7, 32, 68, 96]\n",
      "[3, 7, 32, 68, 96]\n",
      "[3, 7, 32, 68, 96]\n",
      "[3, 7, 32, 68, 96]\n",
      "[3, 7, 32, 68, 96]\n",
      "[3, 7, 32, 68, 96]\n"
     ]
    }
   ],
   "source": [
    "import java.util.Arrays;\n",
    "\n",
    "public class BubbleSort {\n",
    "    public static void main(int[] arr) {\n",
    "        \n",
    "        boolean swap = true;\n",
    "\n",
    "        while(swap){\n",
    "            swap = false; \n",
    "            for (int i = 1; i < arr.length; i++) {\n",
    "                // Print out the array at the beginning of each iteration\n",
    "                //System.out.println(Arrays.toString(arr));\n",
    "                \n",
    "                int temp = 0;\n",
    "                if (arr[i] < arr[i-1]){\n",
    "                    swap = true;\n",
    "                    temp = arr[i];\n",
    "                    arr[i] = arr[i-1];\n",
    "                    arr[i-1] = temp;\n",
    "                }\n",
    "            }\n",
    "        }\n",
    "        //System.out.println(Arrays.toString(arr));\n",
    "    }\n",
    "}\n",
    "\n",
    "// Call the BubbleSort.main() method to run the program\n",
    "int[] arr = {32, 96, 7, 3, 68};\n",
    "BubbleSort.main(arr);\n"
   ]
  },
  {
   "attachments": {},
   "cell_type": "markdown",
   "metadata": {},
   "source": [
    "### Time Analysis"
   ]
  },
  {
   "cell_type": "code",
   "execution_count": 78,
   "metadata": {},
   "outputs": [
    {
     "name": "stdout",
     "output_type": "stream",
     "text": [
      "Merge Sort Average: 326164\n",
      "Insertion Sort Average: 667368\n",
      "Selection Sort Average: 2408125\n",
      "Bubble Sort Average: 5851080\n"
     ]
    }
   ],
   "source": [
    "public class TimeAnalysis {\n",
    "    public static void main(String[] arg) {\n",
    "        long totaltime1 = 0;\n",
    "        long totaltime2 = 0;\n",
    "        long totaltime3 = 0;\n",
    "        long totaltime4 = 0;\n",
    "        int repeat = 100;\n",
    "\n",
    "        int[] arr1 = new int[5000];\n",
    "        int[] arr2 = null;\n",
    "        int[] arr3 = null;\n",
    "        int[] arr4 = null;\n",
    "\n",
    "        for(int j = 0; j < repeat; j++){\n",
    "\n",
    "            // making a 5000 int array \n",
    "            for (int i = 0; i < arr1.length; i++) {\n",
    "            arr1[i] = (int) (Math.random() * 10000);\n",
    "        }\n",
    "            // assign the value of arr1 to arr2, arr3, and arr4\n",
    "            arr2 = Arrays.copyOf(arr1, arr1.length);\n",
    "            arr3 = Arrays.copyOf(arr1, arr1.length);\n",
    "            arr4 = Arrays.copyOf(arr1, arr1.length);\n",
    "\n",
    "            // time output selection\n",
    "            long start1 = System.nanoTime();\n",
    "            SelectionSort.main(arr1);\n",
    "            long end1 = System.nanoTime();\n",
    "            long time1 = end1 - start1;\n",
    "            totaltime1 += (time1);\n",
    "           \n",
    "            // time output insertion\n",
    "            long start2 = System.nanoTime();\n",
    "            InsertionSort.main(arr2);\n",
    "            long end2 = System.nanoTime();\n",
    "            long time2 = end2 - start2;\n",
    "            totaltime2 += (time2);\n",
    "\n",
    "            // time output Merge\n",
    "            long start3 = System.nanoTime();\n",
    "            MergeSort.main(arr3);\n",
    "            long end3 = System.nanoTime();\n",
    "            long time3 = end3 - start3;\n",
    "            totaltime3 += (time3);\n",
    "\n",
    "            // time output Bubble\n",
    "            long start4 = System.nanoTime();\n",
    "            BubbleSort.main(arr4);\n",
    "            long end4 = System.nanoTime();\n",
    "            long time4 = end4 - start4;\n",
    "            totaltime4 += (time4);\n",
    "        }\n",
    "         // create a map that maps each sorting algorithm to its corresponding time\n",
    "         Map<String, Long> timeMap = new HashMap<>();\n",
    "         timeMap.put(\"Selection Sort\", totaltime1 / repeat);\n",
    "         timeMap.put(\"Insertion Sort\", totaltime2 / repeat);\n",
    "         timeMap.put(\"Merge Sort\", totaltime3 / repeat);\n",
    "         timeMap.put(\"Bubble Sort\", totaltime4 / repeat);\n",
    "         \n",
    "         // sort the map by values\n",
    "         List<Map.Entry<String, Long>> sortedList = new ArrayList<>(timeMap.entrySet());\n",
    "         Collections.sort(sortedList, Map.Entry.comparingByValue());\n",
    "         \n",
    "         // print the sorted map\n",
    "         for (Map.Entry<String, Long> entry : sortedList) {\n",
    "             System.out.println(entry.getKey() + \" Average: \" + entry.getValue());\n",
    "         }\n",
    "    }\n",
    "}\n",
    "\n",
    "\n",
    "// Call the TimeAnalysis.main() method to run the program\n",
    "TimeAnalysis.main(null);\n",
    "\n"
   ]
  },
  {
   "attachments": {},
   "cell_type": "markdown",
   "metadata": {},
   "source": [
    "After running it many times, the order of the four to sort the array is: Merge, Insertion, Selection, Bubble from least amount of time the most amount of time. "
   ]
  },
  {
   "attachments": {},
   "cell_type": "markdown",
   "metadata": {},
   "source": [
    "### Hashmap"
   ]
  },
  {
   "cell_type": "code",
   "execution_count": 93,
   "metadata": {},
   "outputs": [
    {
     "name": "stdout",
     "output_type": "stream",
     "text": [
      "Look up time: 598 nanoseconds\n",
      "Binary search time: 10814 nanoseconds\n"
     ]
    }
   ],
   "source": [
    "import java.util.HashMap;\n",
    "import java.lang.Integer;\n",
    "import java.util.Scanner;\n",
    "\n",
    "public class Hash {\n",
    "    public static void main(String[] args){\n",
    "        HashMap<Integer, Integer> hashmap = new HashMap<Integer, Integer>();\n",
    "        int[] list = new int[5000];\n",
    "\n",
    "        for (int i = 0; i < list.length; i++) {\n",
    "            Integer value = (int) (Math.random() * 5000);\n",
    "            hashmap.put(value, value);\n",
    "            list[i] = value;\n",
    "        }\n",
    "\n",
    "        long lookUpTime = (lookUp(hashmap, 12));\n",
    "        System.out.println(\"Look up time: \" + lookUpTime + \" nanoseconds\");\n",
    "        long binarySearchTime = (binarySearchTime(list, 12));\n",
    "        System.out.println(\"Binary search time: \" + binarySearchTime + \" nanoseconds\");\n",
    "        \n",
    "    }\n",
    "\n",
    "    public static long lookUp(HashMap<Integer, Integer> hashmap, Integer value) {\n",
    "        long start = System.nanoTime();\n",
    "        hashmap.containsKey(value);\n",
    "        long end = System.nanoTime();\n",
    "        return (end - start);\n",
    "    }\n",
    "\n",
    "    public static long binarySearchTime(int[] list, Integer value) {\n",
    "        long start = System.nanoTime();\n",
    "        // binary search \n",
    "        int low = 0;\n",
    "        int high = list.length - 1;\n",
    "        int middle = (low + high) / 2;\n",
    "        while (low <= high) {\n",
    "            if (list[middle] < value) {\n",
    "                low = middle + 1;\n",
    "            } else if (list[middle] == value) {\n",
    "                break;\n",
    "            } else {\n",
    "                high = middle - 1;\n",
    "            }\n",
    "            middle = (low + high) / 2;\n",
    "        }\n",
    "        long end = System.nanoTime();\n",
    "        return (end - start);\n",
    "    }\n",
    "}\n",
    "Hash.main(null);"
   ]
  }
 ],
 "metadata": {
  "kernelspec": {
   "display_name": "Java",
   "language": "java",
   "name": "java"
  },
  "language_info": {
   "codemirror_mode": "java",
   "file_extension": ".jshell",
   "mimetype": "text/x-java-source",
   "name": "java",
   "pygments_lexer": "java",
   "version": "11.0.17+8-post-Ubuntu-1ubuntu222.04"
  },
  "orig_nbformat": 4
 },
 "nbformat": 4,
 "nbformat_minor": 2
}
