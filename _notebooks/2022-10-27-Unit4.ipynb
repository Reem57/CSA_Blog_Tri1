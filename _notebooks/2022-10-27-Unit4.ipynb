{
 "cells": [
  {
   "cell_type": "markdown",
   "metadata": {},
   "source": [
    "# Unit 4 Homework\n",
    "- toc: true \n",
    "- badges: true\n",
    "- comments: true\n",
    "- categories: [jupyter]\n",
    "- title: Unit 4 Homework"
   ]
  },
  {
   "cell_type": "markdown",
   "metadata": {},
   "source": [
    "# Challenge"
   ]
  },
  {
   "cell_type": "code",
   "execution_count": null,
   "metadata": {},
   "outputs": [],
   "source": [
    "public class CaesarCipher {\n",
    "    public static void main(String[] args) {\n",
    "        String[] letters = {\"a\", \"b\", \"c\", \"d\", \"e\", \"f\", \"g\", \"h\", \"i\", \"j\", \"k\", \"l\", \"m\", \"n\", \"o\", \"p\", \"q\", \"r\", \"s\", \"t\", \"u\", \"v\", \"w\", \"x\", \"y\", \"z\"};\n",
    "        String message1 = \"kfzb gly\";\n",
    "        String message2 = \"zlab zlab zlab\";\n",
    "        String message3 = \"prmbozxifcoxdfifpqfzbumfxifalzflrp\";\n",
    "        String cipher(String msg, int shift) {\n",
    "            String s = \"\";\n",
    "            int len = msg.length();\n",
    "            for(int x = 0; x < len; x++) {\n",
    "                letters c = (letters)(msg.charAt(x) + shift);\n",
    "                if (c > \"z\")\n",
    "                    s += (letters)(msg.charAt(x) - (26-shift));\n",
    "                else\n",
    "                    s += (letters)(msg.charAt(x) + shift);\n",
    "            }\n",
    "            return s;\n",
    "        }\n",
    "        System.out.println(cipher(message1, 3));\n",
    "        System.out.println(cipher(message2, 3));\n",
    "        System.out.println(cipher(message3, 3));\n",
    "    }\n",
    "}\n",
    "CaesarCipher.main(null);"
   ]
  }
 ],
 "metadata": {
  "kernelspec": {
   "display_name": "Java",
   "language": "java",
   "name": "java"
  },
  "language_info": {
   "codemirror_mode": "java",
   "file_extension": ".jshell",
   "mimetype": "text/x-java-source",
   "name": "java",
   "pygments_lexer": "java",
   "version": "11.0.16+8-post-Ubuntu-0ubuntu120.04"
  },
  "orig_nbformat": 4,
  "vscode": {
   "interpreter": {
    "hash": "916dbcbb3f70747c44a77c7bcd40155683ae19c65e1c03b4aa3499c5328201f1"
   }
  }
 },
 "nbformat": 4,
 "nbformat_minor": 2
}
