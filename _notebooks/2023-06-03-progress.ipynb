{
 "cells": [
  {
   "attachments": {},
   "cell_type": "markdown",
   "metadata": {},
   "source": [
    "# Weekly Progress"
   ]
  },
  {
   "attachments": {},
   "cell_type": "markdown",
   "metadata": {},
   "source": [
    "### May 8- 12 \n",
    "\n",
    "- There were still AP Exams so we were only able to work by the end of the week\n",
    "- We established a collective Idea that we are all going to follow (1 hour)\n",
    "- Plan: Split the work and start working next week"
   ]
  },
  {
   "attachments": {},
   "cell_type": "markdown",
   "metadata": {},
   "source": [
    "### May 15-19\n",
    " - My feature for this project is the interactive map\n",
    " - I added a map from google maps or another api (2 hours)\n",
    " - I let the user add a marker to where they are going to play a pick up game (6 hours)\n",
    "- Plan: add these features to a database. The user also needs to find his location so he will know where he is relative to the other people"
   ]
  },
  {
   "attachments": {},
   "cell_type": "markdown",
   "metadata": {},
   "source": [
    "### May 22-26\n",
    " - I started working on the database so the markers will be stored there instead of as variables (7 hours in school + 3 hours homework that week)\n",
    " - I am having problem testing it with postman because of our login (this bug is what made it so long)\n",
    " - plan: finish up the database and maybe add an extra feature"
   ]
  },
  {
   "attachments": {},
   "cell_type": "markdown",
   "metadata": {},
   "source": [
    "### May 29 - June 2nd\n",
    " - Finished adding it to the mongoose database (2 hours in school)\n",
    " -  the user can now see his/her location (3 hours in school + 2 hours in homework)\n",
    " - plan: work on the css for this page. (I added a bit 1.5 hours)"
   ]
  }
 ],
 "metadata": {
  "language_info": {
   "name": "python"
  },
  "orig_nbformat": 4
 },
 "nbformat": 4,
 "nbformat_minor": 2
}
