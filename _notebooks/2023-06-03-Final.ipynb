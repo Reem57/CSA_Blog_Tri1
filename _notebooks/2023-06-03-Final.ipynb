{
 "cells": [
  {
   "attachments": {},
   "cell_type": "markdown",
   "metadata": {},
   "source": [
    "# Night at the Museum"
   ]
  },
  {
   "attachments": {},
   "cell_type": "markdown",
   "metadata": {},
   "source": [
    "### Photos"
   ]
  },
  {
   "attachments": {},
   "cell_type": "markdown",
   "metadata": {},
   "source": [
    "### Summary\n",
    "\n",
    "This end of the year's Night at the Museum was had some incredible performances. Some include our school band and other amazing art work. I got to see our school's Flag team preforming an amazing show followed by my friends from band preforming some upbeat songs to cheer up everyone. Afterwards, I entered the school art section which included ceramics, drawing and painting, and the choir. This was my first time listening to the school's choir even though I will be a senior next year. It was inspiring to see some of the amazing art work that students in our school have created. After being amazed by our art section I went back into our computer science room. I saw some very nice websites from people. We started at 7 pm and I presented to many people and some of friends too. People, especially athletes, really liked our idea and thought we should even make a startup with it if we put a little more work into it. By 7:45 we decided to leave and the school knowing that we did a good job that day."
   ]
  }
 ],
 "metadata": {
  "language_info": {
   "name": "python"
  },
  "orig_nbformat": 4
 },
 "nbformat": 4,
 "nbformat_minor": 2
}
