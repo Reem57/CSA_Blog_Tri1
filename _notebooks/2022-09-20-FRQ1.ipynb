{
 "cells": [
  {
   "cell_type": "markdown",
   "metadata": {},
   "source": [
    "# 2018: Free-Response Question 1\n",
    "- toc: true \n",
    "- badges: true\n",
    "- comments: false\n",
    "- categories: [jupyter]\n",
    "- title: FRQ 1\n"
   ]
  },
  {
   "cell_type": "markdown",
   "metadata": {},
   "source": [
    "## Part a - Question:\n",
    "Write the simulate method, which simulates the frog attempting to hop in a straight line to a goal from the frog's starting position of 0 within a maximum number of hops. The method returns true if the frog successfully reached the goal within the maximum number of hops; otherwise, the method returns false. The FrogSimulation class provides a method called hopDistance that returns an integer representing the distance (positive or negative) to be moved when the frog hops. A positive distance represents a move toward the goal. A negative distance represents a move away from the goal. The returned distance may vary from call to call. Each time the frog hops, its position is adjusted by the value returned by\n",
    "a call to the hopDistance method.\n",
    "\n",
    "The frog hops until one of the following conditions becomes true:\n",
    "- The frog has reached or passed the goal.\n",
    "- The frog has reached a negative position.\n",
    "- The frog has taken the maximum number of hops without reaching the goal. \n",
    "\n",
    "The following example shows a declaration of a FrogSimulation object for which the goal distance is\n",
    "24 inches and the maximum number of hops is 5. The table shows some possible outcomes of calling the\n",
    "simulate method. \n",
    "\n",
    "FrogSimulation sim = new FrogSimulation(24, 5); \n",
    "\n",
    "\n",
    "\n",
    "Complete method simulate below. You must use hopDistance appropriately to receive full credit.\n",
    "* Simulates a frog attempting to reach the goal as described in part (a).\n",
    "* Returns true if the frog successfully reached or passed the goal during the simulation;\n",
    "* false otherwise.\n"
   ]
  },
  {
   "cell_type": "code",
   "execution_count": 2,
   "metadata": {
    "vscode": {
     "languageId": "java"
    }
   },
   "outputs": [],
   "source": [
    "public boolean simulate(){\n",
    "    int position = 0;\n",
    "    for (int count = 0; count < maxHops; count++){\n",
    "        position += hopDistance();\n",
    "        if (position >= goalDistance){\n",
    "            return true;\n",
    "        }\n",
    "        else if (position < 0){\n",
    "            return false;\n",
    "        }\n",
    "    }\n",
    "    return false;\n",
    "}"
   ]
  },
  {
   "cell_type": "code",
   "execution_count": 4,
   "metadata": {
    "vscode": {
     "languageId": "java"
    }
   },
   "outputs": [
    {
     "ename": "CompilationException",
     "evalue": "",
     "output_type": "error",
     "traceback": [
      "\u001b[1m\u001b[30m|   \u001b[1m\u001b[30m    for(int i =0; i<\u001b[0m\u001b[1m\u001b[30m\u001b[41mmaxHops\u001b[0m\u001b[1m\u001b[30m; i++){\u001b[0m",
      "\u001b[1m\u001b[31mcannot find symbol\u001b[0m",
      "\u001b[1m\u001b[31m  symbol:   variable maxHops\u001b[0m",
      "",
      "\u001b[1m\u001b[30m|   \u001b[1m\u001b[30m        currentDistance += \u001b[0m\u001b[1m\u001b[30m\u001b[41mhopDistance\u001b[0m\u001b[1m\u001b[30m();\u001b[0m",
      "\u001b[1m\u001b[31mcannot find symbol\u001b[0m",
      "\u001b[1m\u001b[31m  symbol:   method hopDistance()\u001b[0m",
      "",
      "\u001b[1m\u001b[30m|   \u001b[1m\u001b[30m            return \u001b[0m\u001b[1m\u001b[30m\u001b[41mfalse\u001b[0m\u001b[1m\u001b[30m;\u001b[0m",
      "\u001b[1m\u001b[31mincompatible types: boolean cannot be converted to double\u001b[0m",
      "",
      "\u001b[1m\u001b[30m|   \u001b[1m\u001b[30m        if(currentDistance >= \u001b[0m\u001b[1m\u001b[30m\u001b[41mgoalDistance\u001b[0m\u001b[1m\u001b[30m){\u001b[0m",
      "\u001b[1m\u001b[31mcannot find symbol\u001b[0m",
      "\u001b[1m\u001b[31m  symbol:   variable goalDistance\u001b[0m",
      "",
      "\u001b[1m\u001b[30m|   \u001b[1m\u001b[30m            return \u001b[0m\u001b[1m\u001b[30m\u001b[41mtrue\u001b[0m\u001b[1m\u001b[30m;\u001b[0m",
      "\u001b[1m\u001b[31mincompatible types: boolean cannot be converted to double\u001b[0m",
      "",
      "\u001b[1m\u001b[30m|   \u001b[1m\u001b[30m    return \u001b[0m\u001b[1m\u001b[30m\u001b[41mfalse\u001b[0m\u001b[1m\u001b[30m;\u001b[0m",
      "\u001b[1m\u001b[31mincompatible types: boolean cannot be converted to double\u001b[0m",
      ""
     ]
    }
   ],
   "source": [
    "public double runSimulations(int num){\n",
    "    int currentDistance = 0;\n",
    "    for(int i =0; i<maxHops; i++){\n",
    "        currentDistance += hopDistance();\n",
    "        if(currentDistance<0){\n",
    "            return false;\n",
    "        }\n",
    "        if(currentDistance >= goalDistance){\n",
    "            return true;\n",
    "        }\n",
    "    }\n",
    "    return false;\n",
    "}"
   ]
  },
  {
   "cell_type": "markdown",
   "metadata": {},
   "source": [
    "## Part B - Question:\n",
    "Write the runSimulations method, which performs a given number of simulations and returns the proportion of simulations in which the frog successfully reached or passed the goal. For example, if the parameter passed to runSimulations is 400, and 100 of the 400 simulate method calls returned true, then the runSimulations method should return 0.25. Complete method runSimulations below. Assume that simulate works as specified, regardless of what you wrote in part (a). You must use simulate appropriately to receive full credit.\n",
    "\n",
    "* Runs num simulations and returns the proportion of simulations in which the frog\n",
    "* successfully reached or passed the goal.\n",
    "* Precondition: num > 0"
   ]
  },
  {
   "cell_type": "code",
   "execution_count": null,
   "metadata": {
    "vscode": {
     "languageId": "java"
    }
   },
   "outputs": [],
   "source": [
    "public double runSimulations(int num){\n",
    "    int countSuccess = 0;\n",
    "    for (int count = 0; count < num; count++){\n",
    "        if(simulate()){\n",
    "            countSuccess++;\n",
    "        }\n",
    "    }\n",
    "    return (double)countSuccess / num;\n",
    "} "
   ]
  },
  {
   "cell_type": "markdown",
   "metadata": {},
   "source": [
    "## Answer"
   ]
  },
  {
   "cell_type": "code",
   "execution_count": null,
   "metadata": {
    "vscode": {
     "languageId": "java"
    }
   },
   "outputs": [],
   "source": [
    "public double runSimulations(int num){\n",
    "    int numSuccess = 0;\n",
    "    for(int i=0; i<num; i++){\n",
    "        if(simulate()){\n",
    "            numSuccess++;\n",
    "        }\n",
    "    }\n",
    "    return ((double)numSuccess)/num;\n",
    "}"
   ]
  }
 ],
 "metadata": {
  "kernelspec": {
   "display_name": "Java",
   "language": "java",
   "name": "java"
  },
  "language_info": {
   "codemirror_mode": "java",
   "file_extension": ".jshell",
   "mimetype": "text/x-java-source",
   "name": "Java",
   "pygments_lexer": "java",
   "version": "11.0.16+8-post-Ubuntu-0ubuntu120.04"
  },
  "orig_nbformat": 4
 },
 "nbformat": 4,
 "nbformat_minor": 2
}
