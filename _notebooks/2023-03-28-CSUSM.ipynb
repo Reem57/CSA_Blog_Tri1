{
 "cells": [
  {
   "attachments": {},
   "cell_type": "markdown",
   "metadata": {},
   "source": [
    "# CSUSM\n",
    "- toc: true \n",
    "- badges: true\n",
    "- comments: true\n",
    "- categories: [jupyter]\n",
    "- title: CSUSM"
   ]
  },
  {
   "cell_type": "code",
   "execution_count": 1,
   "metadata": {
    "vscode": {
     "languageId": "java"
    }
   },
   "outputs": [
    {
     "name": "stdout",
     "output_type": "stream",
     "text": [
      "[32, 96, 7, 3, 68]\n",
      "[3, 96, 7, 32, 68]\n",
      "[3, 7, 96, 32, 68]\n",
      "[3, 7, 32, 96, 68]\n",
      "[3, 7, 32, 68, 96]\n"
     ]
    }
   ],
   "source": [
    "import java.util.Arrays;\n",
    "\n",
    "public class SelectionSorting {\n",
    "\n",
    "    public static void main(String[] args) {\n",
    "        int[] arr = {32,96, 7, 3, 68};\n",
    "\n",
    "        // Get the length of the array\n",
    "        int n = arr.length;\n",
    "\n",
    "        // Iterate over the array n-1 times\n",
    "        for (int i = 0; i < n - 1; i++) {\n",
    "            // Print out the array at the beginning of each iteration\n",
    "            System.out.println(Arrays.toString(arr));\n",
    "\n",
    "            // Set the minimum index to the current index\n",
    "            int minIndex = i;\n",
    "\n",
    "            // Find the index of the smallest element in the unsorted portion of the array\n",
    "            for (int j = i + 1; j < n; j++) {\n",
    "                if (arr[j] < arr[minIndex]) {\n",
    "                    minIndex = j;\n",
    "                }\n",
    "            }\n",
    "\n",
    "            // Swap the smallest element with the first element in the unsorted portion of the array\n",
    "            int temp = arr[minIndex];\n",
    "            arr[minIndex] = arr[i];\n",
    "            arr[i] = temp;\n",
    "        }\n",
    "\n",
    "        // Print out the sorted array\n",
    "        System.out.println(Arrays.toString(arr));\n",
    "    }\n",
    "}\n",
    "\n",
    "// Call the SelectionSorting.main() method to run the program\n",
    "SelectionSorting.main(null);\n"
   ]
  },
  {
   "attachments": {},
   "cell_type": "markdown",
   "metadata": {},
   "source": [
    "# Stories\n",
    "### Ashley\n",
    "Ashley is a student who serves as an inspiring example of perseverance. Even though she faced difficulties, she did not let her failures define her. Instead, she learned from them and continued to pursue her dreams. Her passion for physics led her to Cal State San Marcos, where she is now working in a lab and will continue her studies at UCSD. Ashley is a great example of a student who persevered despite initial setbacks. Her story is an inspiration to other students who may be struggling with their coursework. At Cal State San Marcos, there are many resources available to help students who are struggling academically. For example, the university offers tutoring services, academic advising, and workshops on study skills and time management.\n",
    "\n",
    "### John\n",
    "John also has a remarkable story. He started his college journey at Palomar right after high school, but the COVID-19 pandemic forced him to change his plans. Despite this setback, he found a new home at Cal State San Marcos and was able to complete his education without accruing any debt. John is another example of a student who has benefited from the opportunities offered at Cal State San Marcos. One of the university's strengths is its focus on social mobility, which means that it aims to help students from all backgrounds achieve their educational and career goals. As a result, the university has a diverse student body, and it offers many programs and resources to support students who may face challenges such as financial insecurity, first-generation status, or language barriers.\n",
    "\n",
    "### Extra facts\n",
    "A fun fact about Cal State San Marcos is that from 2017 to 2022, the school created new STEM buildings that now make them national leaders in social mobility. While there may be 250 stairs to climb, the school makes it easy for students to transition between majors, and there are many opportunities for classes to overlap.\n",
    "\n",
    "In addition to the programs and resources mentioned earlier, Cal State San Marcos also has a strong emphasis on hands-on learning and research. Many of the degree programs include opportunities for students to work on research projects, internships, or other experiential learning activities. This is a great way for students to gain practical skills and prepare for their future careers.\n",
    "\n",
    "Cal State San Marcos offers a variety of pathways for students to pursue. Some of the most popular include chem/bio, physics with a minor in electrical engineering, computer science, a master's in cybersecurity, computer engineering, and math majors. By offering different pathways, the school allows students to customize their education to their interests and career goals.\n",
    "\n",
    "The departments at Cal State San Marcos are another example of the school's commitment to diversity and inclusivity. Students can choose from departments such as Physics, Chem/Biochem, Biotech, Bio Science, Math, CS, Software Engineering, and Electrical Engineering. Each of these\n",
    "\n",
    "Cal State San Marcos is a public university that is part of the California State University system. The university is located in San Marcos, California, and was founded in 1989. Since then, the university has grown rapidly, and it now offers more than 100 degree programs.\n",
    "\n",
    "### Conclusion/Reflection\n",
    "In conclusion, Cal State San Marcos is a fantastic university with a strong emphasis on STEM fields, offering a variety of pathways and departments. The school has a unique culture that encourages students to push past their failures and pursue their dreams. With a plethora of clubs, research opportunities, and internships, Cal State San Marcos provides students with the resources they need to succeed in their careers. Additionally, the school offers grants, scholarships, and loans to help students pay for their education. After graduation, students have a wide range of options, including internships, jobs, and even military help. If you're interested in attending Cal State San Marcos, be sure to check out their upcoming events and learn more about what the school has to offer."
   ]
  },
  {
   "attachments": {},
   "cell_type": "markdown",
   "metadata": {},
   "source": [
    "![Alt text](../images/WhatsApp%20Image%202023-03-28%20at%2018.09.21.jpg)"
   ]
  }
 ],
 "metadata": {
  "kernelspec": {
   "display_name": "Java",
   "language": "java",
   "name": "java"
  },
  "language_info": {
   "codemirror_mode": "java",
   "file_extension": ".jshell",
   "mimetype": "text/x-java-source",
   "name": "Java",
   "pygments_lexer": "java",
   "version": "11.0.17+8-post-Ubuntu-1ubuntu222.04"
  },
  "orig_nbformat": 4
 },
 "nbformat": 4,
 "nbformat_minor": 2
}
