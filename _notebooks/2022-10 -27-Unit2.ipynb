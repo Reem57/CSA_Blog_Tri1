{
 "cells": [
  {
   "cell_type": "markdown",
   "metadata": {},
   "source": [
    "# Unit 2 Homework\n",
    "- toc: true \n",
    "- badges: true\n",
    "- comments: true\n",
    "- categories: [jupyter]\n",
    "- title: Unit 2 Homework"
   ]
  },
  {
   "cell_type": "markdown",
   "metadata": {},
   "source": [
    "# FRQ"
   ]
  },
  {
   "cell_type": "markdown",
   "metadata": {},
   "source": [
    "## Part A: Needs to return a score for guess"
   ]
  },
  {
   "cell_type": "code",
   "execution_count": null,
   "metadata": {},
   "outputs": [],
   "source": [
    "\n",
    "public int scoreGuess(String guess) {\n",
    "    int count = 0;\n",
    "    for(int i = 0; i < secret.length(); i++) {\n",
    "      int j = i + guess.length();\n",
    "      if(j <= secret.length() && secret.substring(i, j).equals(guess))\n",
    "        count++;\n",
    "    }\n",
    "    return count * (guess.length() * guess.length());\n",
    "}\n"
   ]
  },
  {
   "cell_type": "markdown",
   "metadata": {},
   "source": [
    "## Part B: Trying to find a better Guess"
   ]
  },
  {
   "cell_type": "code",
   "execution_count": null,
   "metadata": {},
   "outputs": [],
   "source": [
    "public String findBetterGuess(String guess1, String guess2) {\n",
    "    int score1 = scoreGuess(guess1);\n",
    "    int score2 = scoreGuess(guess2);\n",
    "    if(score1 > score2) {\n",
    "      return guess1;\n",
    "    } else if(score2 > score1) {\n",
    "      return guess2;\n",
    "    } else {\n",
    "      if(guess1.compareTo(guess2) > 0) z{\n",
    "        return guess1;\n",
    "      } else {\n",
    "        return guess2;\n",
    "      }\n",
    "    }\n",
    "  }"
   ]
  }
 ],
 "metadata": {
  "kernelspec": {
   "display_name": "Java",
   "language": "java",
   "name": "java"
  },
  "language_info": {
   "name": "java"
  },
  "orig_nbformat": 4
 },
 "nbformat": 4,
 "nbformat_minor": 2
}
