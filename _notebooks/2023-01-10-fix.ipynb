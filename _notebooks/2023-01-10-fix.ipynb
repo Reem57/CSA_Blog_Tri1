{
 "cells": [
  {
   "cell_type": "markdown",
   "metadata": {},
   "source": []
  },
  {
   "cell_type": "code",
   "execution_count": 1,
   "metadata": {
    "vscode": {
     "languageId": "shellscript"
    }
   },
   "outputs": [
    {
     "name": "stdout",
     "output_type": "stream",
     "text": [
      "[sudo] password for reem57: \n",
      "sudo: a password is required\n",
      "\u001b[?2004h"
     ]
    }
   ],
   "source": [
    "sudo apt remove jekyll\n",
    "sudo apt autoremove\n",
    "sudo gem uninstall jekyll bundler\n",
    "sudo uninstall ruby-full build-essential zlib1g-dev\n",
    "sudo apt remove  ruby-full build-essential zlib1g-dev\n",
    "sudo gem install jekyll bundler"
   ]
  }
 ],
 "metadata": {
  "kernelspec": {
   "display_name": "Bash",
   "language": "bash",
   "name": "bash"
  },
  "language_info": {
   "codemirror_mode": "shell",
   "file_extension": ".sh",
   "mimetype": "text/x-sh",
   "name": "bash"
  },
  "orig_nbformat": 4
 },
 "nbformat": 4,
 "nbformat_minor": 2
}
