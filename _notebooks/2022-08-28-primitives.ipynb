{
 "cells": [
  {
   "cell_type": "markdown",
   "metadata": {},
   "source": [
    "# Java Primitives\n",
    "- toc: true \n",
    "- badges: true\n",
    "- comments: true\n",
    "- categories: [jupyter]\n",
    "- title: Java Primitives"
   ]
  },
  {
   "cell_type": "code",
   "execution_count": 1,
   "metadata": {
    "vscode": {
     "languageId": "java"
    }
   },
   "outputs": [
    {
     "name": "stdout",
     "output_type": "stream",
     "text": [
      "anInt: 100\n",
      "aDouble: 89.9\n",
      "aBoolean: true\n",
      "aString: Hello, World!\n",
      "aStringFormal: Greetings, World!\n"
     ]
    }
   ],
   "source": [
    "public class DefinePrimitives {\n",
    "    public static void main(String[] args) {\n",
    "      int anInt = 100;\n",
    "      double aDouble = 89.9;\n",
    "      boolean aBoolean = true;\n",
    "\n",
    "      // not primitives but essential\n",
    "      String aString = \"Hello, World!\";   // wrapper class shortcut assignment\n",
    "      String aStringFormal = new String(\"Greetings, World!\");\n",
    "  \n",
    "      System.out.println(\"anInt: \" + anInt);\n",
    "      System.out.println(\"aDouble: \" + aDouble);\n",
    "      System.out.println(\"aBoolean: \" + aBoolean);\n",
    "      System.out.println(\"aString: \" + aString);\n",
    "      System.out.println(\"aStringFormal: \" + aStringFormal);\n",
    "    }\n",
    "  }\n",
    "  DefinePrimitives.main(null)"
   ]
  },
  {
   "cell_type": "code",
   "execution_count": 2,
   "metadata": {
    "vscode": {
     "languageId": "java"
    }
   },
   "outputs": [
    {
     "name": "stdout",
     "output_type": "stream",
     "text": [
      "Integer Division\n",
      "\tint output with concatenation: 7/2 = 3\n",
      "\tint output with format: 7/2 = 3\n",
      "\tint output with printf: 7/2 = 3\n",
      "Double Division\n",
      "\tdouble output with concatenation: 7.0/2.0 = 3.5\n",
      "\tdouble output with format: 7.00/2.00 = 3.50\n",
      "\tdouble output with printf: 7.00/2.00 = 3.50\n",
      "Casting and Remainders\n",
      "\tint cast to double on division: 7/2 = 3.50\n",
      "\tint using modulo for remainder: 7/2 = 3 remainder 1\n"
     ]
    }
   ],
   "source": [
    "public class PrimitiveDivision {\n",
    "    public static void main(String[] args) {\n",
    "        int i1 = 7, i2 = 2;\n",
    "        System.out.println(\"Integer Division\");\n",
    "        System.out.println(\"\\tint output with concatenation: \" + i1 + \"/\" + i2 + \" = \" + i1/i2);\n",
    "        System.out.println(String.format(\"\\tint output with format: %d/%d = %d\",i1, i2, i1/i2));\n",
    "        System.out.printf(\"\\tint output with printf: %d/%d = %d\\n\",i1, i2, i1/i2);\n",
    "\n",
    "        double d1 = 7, d2 = 2;\n",
    "        System.out.println(\"Double Division\");\n",
    "        System.out.println(\"\\tdouble output with concatenation: \" + d1 + \"/\" + d2 + \" = \" + d1/d2);\n",
    "        System.out.println(String.format(\"\\tdouble output with format: %.2f/%.2f = %.2f\",d1, d2, d1/d2));\n",
    "        System.out.printf(\"\\tdouble output with printf: %.2f/%.2f = %.2f\\n\",d1, d2, d1/d2);\n",
    "\n",
    "        System.out.println(\"Casting and Remainders\");\n",
    "        System.out.printf(\"\\tint cast to double on division: %d/%d = %.2f\\n\",i1, i2, i1/(double)i2);\n",
    "        System.out.println(\"\\tint using modulo for remainder: \" + i1 + \"/\" + i2 + \" = \" + i1/i2 + \" remainder \" + i1%i2);\n",
    "    }\n",
    "}\n",
    "PrimitiveDivision.main(null);"
   ]
  },
  {
   "cell_type": "code",
   "execution_count": 4,
   "metadata": {
    "vscode": {
     "languageId": "java"
    }
   },
   "outputs": [
    {
     "name": "stdout",
     "output_type": "stream",
     "text": [
      "Enter an integer: Not an integer (form like 159), java.util.InputMismatchException\n",
      "Enter a double: 7.9\n",
      "Enter a boolean: true\n",
      "Enter a String: false\n"
     ]
    }
   ],
   "source": [
    "// java style to import library\n",
    "import java.util.Scanner;\n",
    "\n",
    "// class must alway have 1st letter as uppercase, CamelCase is Java Class convention\n",
    "public class ScanPrimitives {\n",
    "    public static void main(String[] args) {    \n",
    "        Scanner input;\n",
    "\n",
    "        // primitive int\n",
    "        input = new Scanner(System.in);\n",
    "        System.out.print(\"Enter an integer: \");\n",
    "        try {\n",
    "            int sampleInputInt = input.nextInt();\n",
    "            System.out.println(sampleInputInt);\n",
    "        } catch (Exception e) {  // if not an integer\n",
    "            System.out.println(\"This is not an integer\");\n",
    "        }\n",
    "        input.close();\n",
    "\n",
    "        // primitive double\n",
    "        input = new Scanner(System.in);\n",
    "        System.out.print(\"Enter a double: \");\n",
    "        try {\n",
    "            double sampleInputDouble = input.nextDouble();\n",
    "            System.out.println(sampleInputDouble);\n",
    "        } catch (Exception e) {  // if not a number\n",
    "            System.out.println(\"Not an double (form like 9.99), \" + e);\n",
    "        }\n",
    "        input.close();\n",
    "\n",
    "        // primitive boolean\n",
    "        input =  new Scanner(System.in);\n",
    "        System.out.print(\"Enter a boolean: \");\n",
    "        try {\n",
    "            boolean sampleInputBoolean = input.nextBoolean();\n",
    "            System.out.println(sampleInputBoolean);\n",
    "        } catch (Exception e) {  // if not true or false\n",
    "            System.out.println(\"Not an boolean (true or false), \" + e);\n",
    "        }\n",
    "        input.close();\n",
    "\n",
    "        // wrapper class String\n",
    "        input =  new Scanner(System.in);\n",
    "        System.out.print(\"Enter a String: \");\n",
    "        try {\n",
    "            String sampleInputString = input.nextLine();\n",
    "            System.out.println(sampleInputString);\n",
    "        } catch (Exception e) { // this may never happen\n",
    "            System.out.println(\"Not an String, \" + e);\n",
    "        }\n",
    "        input.close();\n",
    "    }\n",
    "}\n",
    "ScanPrimitives.main(null);"
   ]
  },
  {
   "cell_type": "markdown",
   "metadata": {},
   "source": [
    "- Integer - a number value non negative and not a decimal\n",
    "- Double - A number value with a decimal\n",
    "- Boolean - True or False values that are usually used in if statements\n",
    "- string - Any character that the computer can print"
   ]
  },
  {
   "cell_type": "markdown",
   "metadata": {},
   "source": [
    "# GPA Calculator"
   ]
  },
  {
   "cell_type": "code",
   "execution_count": 36,
   "metadata": {
    "vscode": {
     "languageId": "java"
    }
   },
   "outputs": [
    {
     "name": "stdout",
     "output_type": "stream",
     "text": [
      "How many classes have you taken: \n"
     ]
    }
   ],
   "source": [
    "public class GPACalculator{\n",
    "    // introduction to Double wrapper class (object)\n",
    "    ArrayList<Double> grades;   // similar to Python list\n",
    "\n",
    "    // constructor, initializes ArrayList and call enterGrades method\n",
    "    public GPACalculator() {\n",
    "        this.grades = new ArrayList<>();\n",
    "        this.enterGrades();\n",
    "    }\n",
    "\n",
    "\n",
    "    // enterGrades input method using scanner\n",
    "    double average = 0;\n",
    "    private double enterGrades() {\n",
    "        Scanner input;\n",
    "\n",
    "        input = new Scanner(System.in);\n",
    "        System.out.print(\"How many classes have you taken: \\n\");\n",
    "        try {\n",
    "            double classNum = input.nextInt();\n",
    "            for (int i = 0; i < classNum; i++) {\n",
    "                input = new Scanner(System.in);\n",
    "                System.out.print(\"Enter your credits for each class (1-5): \");\n",
    "                try {\n",
    "                    double sampleInputDouble = input.nextDouble();\n",
    "                    System.out.println(sampleInputDouble); \n",
    "                    this.grades.add(sampleInputDouble);\n",
    "                } catch (Exception e) {  // if not a number\n",
    "                    System.out.println(\"Not an double (form like 9.99), \" + e);\n",
    "                }\n",
    "                input.close();\n",
    "            }\n",
    "            double total = 0;   // running total\n",
    "            for (double num : this.grades) {    // enhanced for loop\n",
    "                total += num;   // shortcut add and assign operator\n",
    "        }\n",
    "            average = total/ classNum;\n",
    "        } catch (Exception e) {  // if not an integer\n",
    "            System.out.println(\"This is not an integer\");\n",
    "        }\n",
    "        \n",
    "        return average;  // double math, ArrayList grades object maintains its size\n",
    "\n",
    "    }\n",
    "\n",
    "    // average calculation \n",
    "    public double average() {\n",
    "        return (average);  // double math, ArrayList grades object maintains its size\n",
    "    }\n",
    "\n",
    "    public static void main(String[] args) {\n",
    "        GPACalculator grades = new GPACalculator(); // calls constructor, creates object, which calls enterGrades\n",
    "        System.out.println(\"Average: \" + String.format(\"%.2f\", grades.average()));  // format used to standardize to two decimal points\n",
    "    }\n",
    "}\n",
    "// IJava activation\n",
    "GPACalculator.main(null);"
   ]
  }
 ],
 "metadata": {
  "kernelspec": {
   "display_name": "Java",
   "language": "java",
   "name": "java"
  },
  "language_info": {
   "codemirror_mode": "java",
   "file_extension": ".jshell",
   "mimetype": "text/x-java-source",
   "name": "Java",
   "pygments_lexer": "java",
   "version": "11.0.16+8-post-Ubuntu-0ubuntu120.04"
  },
  "orig_nbformat": 4,
  "vscode": {
   "interpreter": {
    "hash": "916dbcbb3f70747c44a77c7bcd40155683ae19c65e1c03b4aa3499c5328201f1"
   }
  }
 },
 "nbformat": 4,
 "nbformat_minor": 2
}
