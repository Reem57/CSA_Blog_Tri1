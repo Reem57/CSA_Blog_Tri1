{
 "cells": [
  {
   "cell_type": "markdown",
   "metadata": {},
   "source": [
    "# Conditionals and Boolean Expressions Blog\n",
    "- toc: true \n",
    "- badges: true\n",
    "- comments: false\n",
    "- categories: [jupyter]\n",
    "- title: Conditionals and Boolean Expressions Blog"
   ]
  },
  {
   "cell_type": "markdown",
   "metadata": {},
   "source": [
    "# If, If else, If elseif else statements"
   ]
  },
  {
   "cell_type": "code",
   "execution_count": 1,
   "metadata": {
    "vscode": {
     "languageId": "java"
    }
   },
   "outputs": [
    {
     "name": "stdout",
     "output_type": "stream",
     "text": [
      "True code block\n"
     ]
    }
   ],
   "source": [
    "if(1==1){ //checking if 1 is equal to one\n",
    "    System.out.println(\"one is equal to one\"); //prints out the message if that is true\n",
    "}"
   ]
  },
  {
   "cell_type": "code",
   "execution_count": 4,
   "metadata": {
    "vscode": {
     "languageId": "java"
    }
   },
   "outputs": [
    {
     "name": "stdout",
     "output_type": "stream",
     "text": [
      "a is not equal to one\n"
     ]
    }
   ],
   "source": [
    "var num = 2; //creating a random variable (num) and assigning a value to it\n",
    "if (num == 1){ //checking to see if that value of the variable is equal to one\n",
    "    System.out.println(\"num is equal to one\"); //if num is equal to one we want to print it out\n",
    "}\n",
    "else{ //if the if statement is NOT true proceed with this\n",
    "    System.out.println(\"num is not equal to one\"); // if the value does not equal to one we want to also print that out\n",
    "}"
   ]
  },
  {
   "cell_type": "code",
   "execution_count": 8,
   "metadata": {
    "vscode": {
     "languageId": "java"
    }
   },
   "outputs": [
    {
     "name": "stdout",
     "output_type": "stream",
     "text": [
      "num is greater than 10\n"
     ]
    }
   ],
   "source": [
    "var num = 15; //creating a random variable (num) and assigning a value to it\n",
    "if(num < 10){ //checking to see if num is less than 10\n",
    "    System.out.println(\"num is less than 10\"); //print result \n",
    "}\n",
    "else if(num > 10){ //checking to see if num is greater than 10\n",
    "    System.out.println(\"num is greater than 10\"); //print result \n",
    "}\n",
    "else{ //If both of the previous statements are false then the number has to equal to 10\n",
    "    System.out.println(\"num is equal to 10\"); //print result \n",
    "}"
   ]
  },
  {
   "cell_type": "markdown",
   "metadata": {},
   "source": [
    "# switch-case"
   ]
  },
  {
   "cell_type": "code",
   "execution_count": 79,
   "metadata": {
    "vscode": {
     "languageId": "java"
    }
   },
   "outputs": [
    {
     "name": "stdout",
     "output_type": "stream",
     "text": [
      "The number is: 2\n"
     ]
    }
   ],
   "source": [
    "int randomNum = (int)(Math.random() * 6);  // random number between 0 to 5\n",
    "if(randomNum == 0){ //Checking if the random number is 0\n",
    "    System.out.println(\"The number is: 0\"); //printing out the random number if its 0\n",
    "}\n",
    "else if(randomNum == 1){ //Checking if the random number is 1\n",
    "    System.out.println(\"The number is: 1\"); //printing out the random number if its 1\n",
    "}\n",
    "else if(randomNum == 2){ //Checking if the random number is 2\n",
    "    System.out.println(\"The number is: 2\"); //printing out the random number if its 2\n",
    "}\n",
    "else if(randomNum == 3){ //Checking if the random number is 3\n",
    "    System.out.println(\"The number is: 3\"); //printing out the random number if its 3\n",
    "}\n",
    "else if(randomNum == 4){ //Checking if the random number is 4\n",
    "    System.out.println(\"The number is: 4\"); //printing out the random number if its 4\n",
    "}\n",
    "else{ //if everything else is false then the number is five\n",
    "    System.out.println(\"The number is: 5\"); //printing out the random number if its 5\n",
    "}"
   ]
  },
  {
   "cell_type": "markdown",
   "metadata": {},
   "source": [
    "### lets put this into a different form called switch-case-otherwise"
   ]
  },
  {
   "cell_type": "code",
   "execution_count": 136,
   "metadata": {
    "vscode": {
     "languageId": "java"
    }
   },
   "outputs": [
    {
     "name": "stdout",
     "output_type": "stream",
     "text": [
      "The number is: 4\n"
     ]
    }
   ],
   "source": [
    "int randomNum = (int)(Math.random() * 6);  // random number between 0 to 5\n",
    "switch (randomNum) {\n",
    "  case 0: //Checks if randomNum is equal to zero\n",
    "    System.out.println(\"The number is: 0\"); //printing out the random number if its 0\n",
    "    break; //stops the code\n",
    "  case 1: //Checks if randomNum is equal to one\n",
    "    System.out.println(\"The number is: 1\"); //printing out the random number if its 1\n",
    "    break; //stops the code\n",
    "  case 2: //Checks if randomNum is equal to two\n",
    "    System.out.println(\"The number is: 2\"); //printing out the random number if its 2\n",
    "    break; //stops the code\n",
    "  case 3: //Checks if randomNum is equal to three\n",
    "    System.out.println(\"The number is: 3\"); //printing out the random number if its 3\n",
    "    break; //stops the code\n",
    "  case 4: //Checks if randomNum is equal to four\n",
    "    System.out.println(\"The number is: 4\"); //printing out the random number if its 3\n",
    "    break; //stops the code\n",
    "  default: //If none of them are true then proceed\n",
    "    System.out.println(\"The number is: 5\"); //printing out the random number if its 3\n",
    "    break; //stops the code\n",
    "}"
   ]
  },
  {
   "cell_type": "markdown",
   "metadata": {},
   "source": [
    "# De Morgan's law\n",
    "## Don: \n",
    "\n",
    "![image](images/law.png)"
   ]
  },
  {
   "cell_type": "code",
   "execution_count": 143,
   "metadata": {
    "vscode": {
     "languageId": "java"
    }
   },
   "outputs": [
    {
     "name": "stdout",
     "output_type": "stream",
     "text": [
      "De Morgan's law is true\n"
     ]
    }
   ],
   "source": [
    "var a = true; //creating a variable with a value of true\n",
    "var b = false; //creating a variable with a value of false\n",
    "if (!(a&b) == !a|!b){ // checks if De Morgan's law is correct\n",
    "    System.out.println(\"De Morgan's law is true\"); //prints out the result\n",
    "}"
   ]
  },
  {
   "cell_type": "code",
   "execution_count": 144,
   "metadata": {
    "vscode": {
     "languageId": "java"
    }
   },
   "outputs": [
    {
     "name": "stdout",
     "output_type": "stream",
     "text": [
      "De Morgan's law is true\n"
     ]
    }
   ],
   "source": [
    "var a = true; //creating a variable with a value of true\n",
    "var b = false; //creating a variable with a value of false\n",
    "if (!(a|b) == !a&!b){ // checks if De Morgan's law is correct\n",
    "    System.out.println(\"De Morgan's law is true\"); //prints out the result\n",
    "}"
   ]
  },
  {
   "cell_type": "code",
   "execution_count": 146,
   "metadata": {
    "vscode": {
     "languageId": "java"
    }
   },
   "outputs": [],
   "source": [
    "var a = true; //creating a variable with a value of true\n",
    "var b = false; //creating a variable with a value of false\n",
    "if (!(a&b) == !a&!b){ // checks if De Morgan's law is correct\n",
    "    System.out.println(\"De Morgan's law is not true\"); //prints out the result\n",
    "}\n",
    "else{ // if not true then proceed\n",
    "    System.out.println(\"De Morgan's law is true\"); //prints out the result\n",
    "}"
   ]
  }
 ],
 "metadata": {
  "kernelspec": {
   "display_name": "Java",
   "language": "java",
   "name": "java"
  },
  "language_info": {
   "codemirror_mode": "java",
   "file_extension": ".jshell",
   "mimetype": "text/x-java-source",
   "name": "Java",
   "pygments_lexer": "java",
   "version": "11.0.16+8-post-Ubuntu-0ubuntu120.04"
  },
  "orig_nbformat": 4
 },
 "nbformat": 4,
 "nbformat_minor": 2
}
