{
 "cells": [
  {
   "cell_type": "markdown",
   "metadata": {},
   "source": [
    "# Final\n",
    "- toc: true \n",
    "- badges: true\n",
    "- comments: true\n",
    "- categories: [jupyter]\n",
    "- title: Finalimage.png"
   ]
  },
  {
   "cell_type": "markdown",
   "metadata": {},
   "source": [
    "## Test Corrections\n",
    "\n",
    "### Question 3\n",
    "![](https://github.com/Reem57/blog_new/blob/master/images/Q3.png?raw=true)\n",
    "\n",
    "![](https://github.com/Reem57/blog_new/blob/master/images/Q3a.png?raw=true)\n",
    "\n",
    " - The answer I provided also allowed other classes to modify the value \"myC\" and not just accessing it. Answer B is the only other answer that provides getC to be accessible by other classes (Public) and by returning the value, it allows the use to just access it without modifying it in other classes.\n",
    "### Question 16\n",
    "\n",
    "![](https://github.com/Reem57/blog_new/blob/master/images/Q16.png?raw=true)\n",
    "\n",
    "![](https://github.com/Reem57/blog_new/blob/master/images/Q16a.png?raw=true)\n",
    "\n",
    " - In this question, I made the mistake of looking at the previous for loop and trying to copy the same format as it look above. So I answered K to have the same format. However the  correct answer should be \"k + a1.length\" because it allows all the values of a1 to be copied over in the \"results.\"\n",
    "\n",
    "### Question 22\n",
    "![](https://github.com/Reem57/blog_new/blob/master/images/Q221.png?raw=true)\n",
    "\n",
    "![](https://github.com/Reem57/blog_new/blob/master/images/Q222.png?raw=true)\n",
    "\n",
    "![](https://github.com/Reem57/blog_new/blob/master/images/Q22a.png?raw=true)\n",
    "\n",
    " - In the question, I thought that using .length would confuse the program and create a compiling error because it is being defined as a class and .length is always used in java to find the length of something. Since pagesPerMinute() is defined in the AudioBook class, Line 4 would cause the error because the book[0] is an AudioBook and not a Book. The program has to somehow know that tis is referring to an AudioBook and not a Book object. \n",
    "\n",
    "### Question 26\n",
    "\n",
    "![](https://github.com/Reem57/blog_new/blob/master/images/Q26.png?raw=true)\n",
    "\n",
    " - For this question I did not see that the line is printing the value of K instead of the arr[k]. The only other correct answer is the A where it goes through each value of the array and checks if it is odd.\n",
    "\n",
    "### Question 40\n",
    "\n",
    "![](https://github.com/Reem57/blog_new/blob/master/images/Q40.png?raw=true)\n",
    "\n",
    " - In my mind, the print statement and the whatsItDo(temp) where flipped so answered it that way. Since it is flipped, the answer I gave should be flipped too thus letter C is the correct answer. \n"
   ]
  }
 ],
 "metadata": {
  "kernelspec": {
   "display_name": "Java",
   "language": "java",
   "name": "java"
  },
  "language_info": {
   "name": "java"
  },
  "orig_nbformat": 4
 },
 "nbformat": 4,
 "nbformat_minor": 2
}
