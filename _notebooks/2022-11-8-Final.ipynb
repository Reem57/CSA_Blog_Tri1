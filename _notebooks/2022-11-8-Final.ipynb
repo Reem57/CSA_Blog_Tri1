{
 "cells": [
  {
   "cell_type": "markdown",
   "metadata": {},
   "source": [
    "# Final\n",
    "- toc: true \n",
    "- badges: true\n",
    "- comments: true\n",
    "- categories: [jupyter]\n",
    "- title: Finalimage.png"
   ]
  },
  {
   "cell_type": "markdown",
   "metadata": {},
   "source": [
    "## Test Corrections\n",
    "\n",
    "### Question 3\n",
    "![](https://github.com/Reem57/blog_new/blob/master/images/Q3.png?raw=true)\n",
    "\n",
    "![](https://github.com/Reem57/blog_new/blob/master/images/Q3a.png?raw=true)\n",
    "\n",
    "### Question 16\n",
    "\n",
    "![](https://github.com/Reem57/blog_new/blob/master/images/Q16.png?raw=true)\n",
    "\n",
    "![](https://github.com/Reem57/blog_new/blob/master/images/Q16a.png?raw=true)\n",
    "\n",
    "### Question 22\n",
    "![](https://github.com/Reem57/blog_new/blob/master/images/Q221.png?raw=true)\n",
    "\n",
    "![](https://github.com/Reem57/blog_new/blob/master/images/Q222.png?raw=true)\n",
    "\n",
    "![](https://github.com/Reem57/blog_new/blob/master/images/Q22a.png?raw=true)\n",
    "\n",
    "### Question 26\n",
    "\n",
    "![](https://github.com/Reem57/blog_new/blob/master/images/Q26.png?raw=true)\n",
    "\n",
    "### Question 40\n",
    "\n",
    "![](https://github.com/Reem57/blog_new/blob/master/images/Q40.png?raw=true)\n"
   ]
  }
 ],
 "metadata": {
  "kernelspec": {
   "display_name": "Java",
   "language": "java",
   "name": "java"
  },
  "language_info": {
   "name": "java"
  },
  "orig_nbformat": 4
 },
 "nbformat": 4,
 "nbformat_minor": 2
}
