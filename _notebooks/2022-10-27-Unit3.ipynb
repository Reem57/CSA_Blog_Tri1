{
 "cells": [
  {
   "cell_type": "markdown",
   "metadata": {},
   "source": [
    "# Unit 3 Homework\n",
    "- toc: true \n",
    "- badges: true\n",
    "- comments: true\n",
    "- categories: [jupyter]\n",
    "- title: Unit 3 Homework"
   ]
  },
  {
   "cell_type": "markdown",
   "metadata": {},
   "source": [
    "# Frq"
   ]
  },
  {
   "cell_type": "markdown",
   "metadata": {},
   "source": [
    "## Part A: Frog is attempting to reach the goal"
   ]
  },
  {
   "cell_type": "code",
   "execution_count": null,
   "metadata": {
    "vscode": {
     "languageId": "java"
    }
   },
   "outputs": [],
   "source": [
    "\n",
    "/** Simulates a frog attempting to reach the goal as described in part (a).\n",
    "* Returns true if the frog successfully reached or passed the goal during the simulation;\n",
    "* false otherwise.\n",
    "*/\n",
    "public boolean simulate() {\n",
    "    int position = 0; // frog starts at 0\n",
    "    for (int count = 0; count < maxHops; count++) { // maxHops is the max the frog can hop, and after each hop the count goes up by one, the loop repeating until count = maxHops\n",
    "        position += hopDistance();\n",
    "        if (position >= goalDistance) { // if the frog goes farther than needed, return true\n",
    "            return true;\n",
    "        }\n",
    "        else if (position < 0) { // if the frog isn't there, return false and keep going\n",
    "            return false;\n",
    "        }\n",
    "    }\n",
    "    return false; // if the hops are taken up without the goal being met, it returns false\n",
    "}\n"
   ]
  },
  {
   "cell_type": "markdown",
   "metadata": {},
   "source": [
    "## Part B: return the number of successful \"runs\""
   ]
  },
  {
   "cell_type": "code",
   "execution_count": null,
   "metadata": {
    "vscode": {
     "languageId": "java"
    }
   },
   "outputs": [],
   "source": [
    "/** Runs num simulations and returns the proportion of simulations in which the frog\n",
    "* successfully reached or passed the goal.\n",
    "* Precondition: num > 0\n",
    "*/\n",
    "public double runSimulations(int num) { // double makes it so the value can be a decimal\n",
    "    int countSuccess = 0; // starts at 0\n",
    "    for (int count = 0; count < num; count++) { // checks if the simulation was successful for each time it was run\n",
    "        if(simulate()) { // if it turns out true, raise the count of the number of successful runs\n",
    "            countSuccess++;\n",
    "        }\n",
    "    }\n",
    "    return (double)countSuccess / num; // divides the number of successes to the overall amount of simulations to find the final result\n",
    "}\n"
   ]
  },
  {
   "cell_type": "markdown",
   "metadata": {},
   "source": [
    "# Challenge"
   ]
  },
  {
   "cell_type": "code",
   "execution_count": null,
   "metadata": {
    "vscode": {
     "languageId": "java"
    }
   },
   "outputs": [],
   "source": [
    "public class CaesarCipher {\n",
    "    public static void main(String[] args) {\n",
    "        String[] letters = {\"a\", \"b\", \"c\", \"d\", \"e\", \"f\", \"g\", \"h\", \"i\", \"j\", \"k\", \"l\", \"m\", \"n\", \"o\", \"p\", \"q\", \"r\", \"s\", \"t\", \"u\", \"v\", \"w\", \"x\", \"y\", \"z\"};\n",
    "        String message1 = \"kfzb gly\";\n",
    "        String message2 = \"zlab zlab zlab\";\n",
    "        String message3 = \"prmbozxifcoxdfifpqfzbumfxifalzflrp\";\n",
    "        String cipher(String msg, int shift) {\n",
    "            String s = \"\";\n",
    "            int len = msg.length();\n",
    "            for(int x = 0; x < len; x++) {\n",
    "                letters c = (letters)(msg.charAt(x) + shift);\n",
    "                if (c > \"z\")\n",
    "                    s += (letters)(msg.charAt(x) - (26-shift));\n",
    "                else\n",
    "                    s += (letters)(msg.charAt(x) + shift);\n",
    "            }\n",
    "            return s;\n",
    "        }\n",
    "        System.out.println(cipher(message1, 3));\n",
    "        System.out.println(cipher(message2, 3));\n",
    "        System.out.println(cipher(message3, 3));\n",
    "    }\n",
    "}\n",
    "CaesarCipher.main(null);"
   ]
  }
 ],
 "metadata": {
  "kernelspec": {
   "display_name": "Java",
   "language": "java",
   "name": "java"
  },
  "language_info": {
   "codemirror_mode": "java",
   "file_extension": ".jshell",
   "mimetype": "text/x-java-source",
   "name": "Java",
   "pygments_lexer": "java",
   "version": "11.0.16+8-post-Ubuntu-0ubuntu120.04"
  },
  "orig_nbformat": 4,
  "vscode": {
   "interpreter": {
    "hash": "916dbcbb3f70747c44a77c7bcd40155683ae19c65e1c03b4aa3499c5328201f1"
   }
  }
 },
 "nbformat": 4,
 "nbformat_minor": 2
}
