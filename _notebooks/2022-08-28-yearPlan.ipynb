{
 "cells": [
  {
   "cell_type": "markdown",
   "metadata": {},
   "source": [
    "# Year Plan\n",
    "- toc: true \n",
    "- badges: true\n",
    "- comments: True\n",
    "- categories: [jupyter]\n",
    "- title: Year Plan\n",
    "- image: images/calendar.jpg"
   ]
  },
  {
   "cell_type": "markdown",
   "metadata": {},
   "source": [
    "## Big Ideas\n",
    "There are 58 sub units overall that need to be covered until the AP Exam on May 3rd (35 weeks including breaks). So every week I will have to complete and take notes on two sub units in college board. Then I will have up to 6 weeks of preparation for the AP Exam."
   ]
  },
  {
   "cell_type": "markdown",
   "metadata": {},
   "source": [
    "## Weekly basis:\n",
    "My week consists of things that I can't move like soccer practice on Monday and Wednesday, scouts on sunday and more.\n",
    "So I will make a schedule of taking notes based on the the amount of \"free time\" I have those days.\n",
    "1. Tuesday: Take notes on one sub unit and summarize it on the blog\n",
    "2. Thursday: Take notes on another sub unit and summarize it on the blog\n",
    "3. Every end of a Unit: Review the content and write a quick summer of the content."
   ]
  },
  {
   "cell_type": "markdown",
   "metadata": {},
   "source": [
    "## Last Weeks before the AP Exam\n",
    " - Find some MC online and practice it\n",
    " - Practice free response questions\n",
    " - Take 3 mock tests before the real deal\n",
    " - Ask Questions about anything that I am confused about."
   ]
  }
 ],
 "metadata": {
  "kernelspec": {
   "display_name": "Python 3.8.10 64-bit",
   "language": "python",
   "name": "python3"
  },
  "language_info": {
   "name": "python",
   "version": "3.8.10"
  },
  "orig_nbformat": 4,
  "vscode": {
   "interpreter": {
    "hash": "916dbcbb3f70747c44a77c7bcd40155683ae19c65e1c03b4aa3499c5328201f1"
   }
  }
 },
 "nbformat": 4,
 "nbformat_minor": 2
}
