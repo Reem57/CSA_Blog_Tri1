{
 "cells": [
  {
   "cell_type": "code",
   "execution_count": 5,
   "metadata": {},
   "outputs": [
    {
     "ename": "CompilationException",
     "evalue": "",
     "output_type": "error",
     "traceback": [
      "\u001b[1m\u001b[30m|   \u001b[1m\u001b[30m\u001b[0m\u001b[1m\u001b[30m\u001b[41msystem.out\u001b[0m\u001b[1m\u001b[30m.println(\"hello\")\u001b[0m",
      "\u001b[1m\u001b[31mpackage system does not exist\u001b[0m",
      ""
     ]
    }
   ],
   "source": [
    "system.out.println(\"hello world\")"
   ]
  }
 ],
 "metadata": {
  "kernelspec": {
   "display_name": "Java",
   "language": "java",
   "name": "java"
  },
  "language_info": {
   "name": "java"
  },
  "orig_nbformat": 4
 },
 "nbformat": 4,
 "nbformat_minor": 2
}
